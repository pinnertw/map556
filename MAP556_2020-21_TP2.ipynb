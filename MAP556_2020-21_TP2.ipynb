{
 "cells": [
  {
   "cell_type": "markdown",
   "metadata": {},
   "source": [
    "### MAP556, Ecole Polytechnique, 2020-2021"
   ]
  },
  {
   "cell_type": "markdown",
   "metadata": {},
   "source": [
    "# TP 2- Réduction de variance "
   ]
  },
  {
   "cell_type": "markdown",
   "metadata": {},
   "source": [
    "On se donne un modèle défini par la relation $Y=f(X)$.\n",
    "L'objectif est d'estimer la valeur $\\mathbb{E}\\bigl[g(Y)\\bigl]$, pour une certaine fonction $g$ sur l'ensemble des sorties $Y$. On suppose que $g(Y)$ est de carré intégrable."
   ]
  },
  {
   "cell_type": "markdown",
   "metadata": {},
   "source": [
    "### Exercice 1. Variables de contrôle\n",
    "\n",
    "Les modèles \"boîte noire\" représentant des systèmes entrée-sortie de codes numériques sont souvent couteux en temps de calcul. \n",
    "Supposons avoir un modèle entrée-sortie réduit  $Y_r = f_r(X)$ plus facile à simuler, pour différentes valeurs des entrées $X$, que le modèle $Y = f(X)$, et tel que la quantité $m_r = \\mathbb{E}\\bigl[g(Y_r)\\bigl]$ est connue.\n",
    "On supposera de plus $\\mathbb{E}\\bigl[g(Y_r)^2\\bigl]<\\infty$.\n",
    "\n",
    "On note $(X_i)_{1\\leq i\\leq n}$ une suite de copies indépendantes de la variable d'entrée $X$, et l'on pose\n",
    " \\begin{eqnarray*}\n",
    " I_n&=&\\frac{1}{n}\\sum_{i=1}^n g(f(X_i)),\\qquad\n",
    " I_n^c = m_r+\\frac{1}{n}\\sum_{i=1}^n \\bigl( g(f(X_i)) - g(f_r(X_i)) \\bigr) .\n",
    " \\end{eqnarray*}\n"
   ]
  },
  {
   "cell_type": "markdown",
   "metadata": {},
   "source": [
    "####  Question 1:\n",
    "Vérifier que $I_n$ et $I_n^c$ sont des estimateurs non biaisés de $\\mathbb{E}\\bigl[g(Y)\\bigl]$, et calculer leur variances."
   ]
  },
  {
   "cell_type": "markdown",
   "metadata": {},
   "source": [
    "* Esperance\n",
    "\n",
    "$I_n \\to \\mathbb{E}[g(f(X))]$ par la loi des grands nombres. Donc $I_n \\to \\mathbb{E}[g(Y)]$ (Slutsky)\n",
    "\n",
    "Il suffit de montrer que $\\frac{1}{n}\\sum^{n}_{i=1}g(f_r(X_i)) \\to m_r $, ce qui est vrai par la loi des grands nombres.\n",
    "\n",
    "* Variance\n",
    "$Var(I_n) = \\frac{1}{n^2} Var(\\sum^{n}_{i=1} g(f(X_i))) = \\frac{1}{n^2}\\sum_1^n Var(G(f(X_i))) = \\frac{1}{n}Var(g(f(X)))$\n",
    "\n",
    "$Var(I_n^c) = \\frac{1}{n}Var(g(f(X)) - g(f_r(X)))$"
   ]
  },
  {
   "cell_type": "markdown",
   "metadata": {},
   "source": [
    "####  Question 2:\n",
    "\n",
    "On suppose que les variables d'entrée $X$ suivent une loi uniforme sur $[0,1]$, $f(x)=e^x$,  $f_r(x)=1+x$, et $g(y)=y$. \n",
    "\n",
    "Simuler les deux estimateurs et leurs intervalles de confiance asymptotiques à $95\\%$.\n",
    "\n",
    "Tracer les courbes des moyennes empiriques $I_n,I_n^c$.\n",
    "\n",
    "Quel est le gain en termes de nombre de simulations de l'estimateur $I_n^c$, pour la même précision asymptotique que la méthode de Monte-Carlo naive?"
   ]
  },
  {
   "cell_type": "code",
   "execution_count": 2,
   "metadata": {},
   "outputs": [],
   "source": [
    "import numpy as np\n",
    "import matplotlib.pyplot as plt\n",
    "from scipy.integrate import quad"
   ]
  },
  {
   "cell_type": "code",
   "execution_count": 4,
   "metadata": {},
   "outputs": [
    {
     "name": "stdout",
     "output_type": "stream",
     "text": [
      "Taille echantillon = 1000\n",
      "Esp_gY = 1.718 \n",
      "\n",
      "Estimateur MC : moyenne= 1.703  variance emp = 0.240\n",
      "IC(95%) = [1.672,1.733] \n",
      "\n",
      "Estimateur Controle : moyenne= 1.712  variance emp = 0.043\n",
      "IC(95%) = [1.699,1.725] \n",
      "\n",
      "Gain en nombre de simulations avec variable de controle : 5.58\n"
     ]
    }
   ],
   "source": [
    "N = 1000 # Taille echantillon\n",
    "\n",
    "integers1toN = np.arange(1,N+1) # Un vecteur contenant les entiers de 1 a N\n",
    "\n",
    "############################################\n",
    "# Calculer la valeur exacte de m_r\n",
    "m_r = 1.5\n",
    "############################################\n",
    "\n",
    "############################################\n",
    "# Simuler les echantillons de valeurs de Y\n",
    "# et de Y_controle\n",
    "X = np.random.rand(N)\n",
    "Y = np.exp(X)\n",
    "\n",
    "Ycontrole = m_r + Y - (1 + X)\n",
    "############################################\n",
    "\n",
    "############################################\n",
    "## Calculer les deux estimateurs, leurs\n",
    "## variances empiriques, et les demi-largeurs\n",
    "## des intervalles de confiance\n",
    "\n",
    "Mean_MC = np.mean(Y)\n",
    "Variance_MC = np.var(Y)\n",
    "\n",
    "Mean_controle = np.mean(Ycontrole)\n",
    "Variance_controle = np.var(Ycontrole)\n",
    "\n",
    "demiLargeurIC95_MC = 1.96 * np.sqrt(Variance_MC/N)\n",
    "demiLargeurIC95_Contr = 1.96 * np.sqrt(Variance_controle/N)\n",
    "\n",
    "############################################\n",
    "# Gain en termes de nombre de simulations\n",
    "# pour la meme precision\n",
    "\n",
    "gain_controle = Variance_MC / Variance_controle\n",
    "############################################\n",
    "\n",
    "############################################\n",
    "# Pour l'affichage: valeur exacte de E[g(Y)]\n",
    "Esp_gY = np.exp(1.) - 1.\n",
    "\n",
    "print(\"Taille echantillon = %d\" %N)\n",
    "print(\"Esp_gY = %1.3f \\n\" %Esp_gY)\n",
    "\n",
    "print(\"Estimateur MC : moyenne= %1.3f  variance emp = %1.3f\" \\\n",
    "      %(Mean_MC, Variance_MC))\n",
    "print(\"IC(95%%) = [%1.3f,%1.3f] \\n\" \\\n",
    "      %(Mean_MC-demiLargeurIC95_MC, Mean_MC+demiLargeurIC95_MC))\n",
    "\n",
    "print(\"Estimateur Controle : moyenne= %1.3f  variance emp = %1.3f\" \\\n",
    "      %(Mean_controle, Variance_controle))\n",
    "print(\"IC(95%%) = [%1.3f,%1.3f] \\n\" \\\n",
    "      %(Mean_controle-demiLargeurIC95_Contr, Mean_controle+demiLargeurIC95_Contr))\n",
    "\n",
    "print(\"Gain en nombre de simulations avec variable de controle : %1.2f\" %gain_controle)"
   ]
  },
  {
   "cell_type": "code",
   "execution_count": 5,
   "metadata": {},
   "outputs": [
    {
     "data": {
      "image/png": "[encoded data removed]",
      "text/plain": [
       "<Figure size 432x288 with 1 Axes>"
      ]
     },
     "metadata": {
      "needs_background": "light"
     },
     "output_type": "display_data"
    }
   ],
   "source": [
    "############################################\n",
    "## Affichage de 10 trajectoires \n",
    "############################################\n",
    "\n",
    "############################################\n",
    "# Simuler M=10 trajectoires des estimateurs\n",
    "# I_n et I_n^c\n",
    "# Taille souhaitee pour les arrays: M x N\n",
    "M = 10\n",
    "\n",
    "X = np.random.rand(M, N)\n",
    "Y = np.exp(X)\n",
    "Ycontrole = m_r + Y - (1 + X)\n",
    "I_n = np.cumsum(Y, axis=1) / integers1toN\n",
    "Ic_n = np.cumsum(Ycontrole, axis=1) / integers1toN\n",
    "\n",
    "############################################\n",
    "## On affiche les 10 trajectoires\n",
    "fig = plt.figure()\n",
    "ax = fig.add_subplot(111)\n",
    "\n",
    "ax.plot(integers1toN, I_n[0], color=\"b\", label=\"MC\")\n",
    "ax.plot(integers1toN, I_n[1:].T, color=\"b\")\n",
    "\n",
    "ax.plot(integers1toN, Ic_n[0], color=\"g\", label=\"Controle\")\n",
    "ax.plot(integers1toN, Ic_n[1:].T, color=\"g\")\n",
    "ax.axhline(Esp_gY, color=\"r\", label=\"Esperance\")\n",
    "\n",
    "ax.set_xlim(0, N)\n",
    "ax.set_ylim(1.4, 2.2)\n",
    "ax.legend(loc=\"best\")\n",
    "plt.show()"
   ]
  },
  {
   "cell_type": "markdown",
   "metadata": {},
   "source": [
    "####  Question 3: \n",
    "On note $(I^j_n)_{1\\leq i\\leq M}$ et $(I^{c,j}_n)_{1\\leq i\\leq M}$ les estimations empiriques associées à $M$ tirages indépendants des deux estimateurs.\n",
    "\n",
    "Evaluer explicitement $m = \\mathbb{E}\\bigl[g(Y)\\bigl]$ et tracer les histogrammes des erreurs $(I^j_n - m)_{1 \\le j \\le M}$ et $(I^{c,j}_n - m)_{1 \\le j \\le M}$."
   ]
  },
  {
   "cell_type": "code",
   "execution_count": 9,
   "metadata": {},
   "outputs": [
    {
     "data": {
      "image/png": "[encoded data removed]",
      "text/plain": [
       "<Figure size 432x288 with 1 Axes>"
      ]
     },
     "metadata": {
      "needs_background": "light"
     },
     "output_type": "display_data"
    }
   ],
   "source": [
    "N = 500 # Taille echantillon\n",
    "M = 1000 # Nombre de tirages des estimateurs\n",
    "\n",
    "integers1toN = np.arange(1,N+1) # Un vecteur contenant les entiers de 1 a N\n",
    "\n",
    "Esp_gY = np.exp(1.)-1.\n",
    "m_r = 1.5\n",
    "\n",
    "############################################\n",
    "# Simuler les echantillons de valeurs de Y\n",
    "# et de Y_controle\n",
    "X = np.random.rand(M, N)\n",
    "Y = np.exp(X)\n",
    "Ycontrole = m_r + Y - (1 + X)\n",
    "############################################\n",
    "\n",
    "############################################\n",
    "# Echantillons de taille M des deux estimateurs \n",
    "\n",
    "I_N = np.mean(Y, axis=1) - Esp_gY\n",
    "Ic_N = np.mean(Ycontrole, axis=1) - Esp_gY\n",
    "\n",
    "############################################\n",
    "## Afficher les histogrammes des erreurs\n",
    "## pour les deux estimateurs\n",
    "\n",
    "plt.hist( I_N, density=\"True\", bins=int(np.sqrt(M)), label=\"MC\")\n",
    "plt.hist( Ic_N , density=\"True\", bins=int(np.sqrt(M)), label=\"Controle\")\n",
    "plt.title(\"Estimation avec variable de controle, N = %1.0f\" %N)\n",
    "\n",
    "plt.legend(loc=\"best\")\n",
    "plt.show()"
   ]
  },
  {
   "cell_type": "markdown",
   "metadata": {},
   "source": [
    "####  Question 4:  Variable de contrôle optimale\n",
    "\n",
    "On considère maintenant l'estimateur\n",
    "\\begin{eqnarray*}\n",
    "I_n^\\lambda =  \\lambda \\, m_r + \\frac{1}{n}\\sum_{i=1}^n \\bigl(g(f(X_i)) - \\lambda \\, g(f_r(X_i))\\bigr),\n",
    "\\qquad \\lambda \\in \\mathbb R.\n",
    "\\end{eqnarray*}\n",
    "\n",
    "Proposer un choix du paramètre $\\lambda$.\n",
    "\n",
    "Tracer les trajectoires des moyennes empiriques $I_n^\\lambda$ ainsi obtenues, puis l'histogramme des erreurs de cet estimateur."
   ]
  },
  {
   "cell_type": "markdown",
   "metadata": {},
   "source": [
    "$\\lambda_{op} = \\frac{Cov(g(f(X)), g(f_r(X)))}{Var(g(f_r(X)))}$"
   ]
  },
  {
   "cell_type": "code",
   "execution_count": 52,
   "metadata": {},
   "outputs": [
    {
     "name": "stdout",
     "output_type": "stream",
     "text": [
      "lambda optimal = 1.706\n",
      "lambda optimal theorique= 1.690\n"
     ]
    }
   ],
   "source": [
    "############################################\n",
    "## Estimation de lambda optimal a partir d'un\n",
    "## petit nombre de simulation\n",
    "############################################\n",
    "n = 100\n",
    "X = np.random.rand(n)\n",
    "Y = np.exp(X)\n",
    "\n",
    "## lambda optimal empirique\n",
    "lambda_opt = (np.mean(Y*(1 + X)) - np.mean(Y)*np.mean(1+X))/np.var(1+X)\n",
    "\n",
    "print(\"lambda optimal = %1.3f\" %lambda_opt)\n",
    "print(\"lambda optimal theorique= %1.3f\" %(6*(3-np.e)))"
   ]
  },
  {
   "cell_type": "code",
   "execution_count": 55,
   "metadata": {},
   "outputs": [
    {
     "data": {
      "image/png": "[encoded data removed]",
      "text/plain": [
       "<Figure size 432x288 with 1 Axes>"
      ]
     },
     "metadata": {
      "needs_background": "light"
     },
     "output_type": "display_data"
    }
   ],
   "source": [
    "#############################################\n",
    "### Pour les histogrammes: M x N tirages \n",
    "#############################################\n",
    "M = 1000\n",
    "N = 500\n",
    "integers1toN = np.arange(1,N+1)\n",
    "\n",
    "X = np.random.rand(M, N)\n",
    "Y = np.exp(X)\n",
    "Y_controle = lambda_opt * m_r + Y - lambda_opt * (1 + X)\n",
    "\n",
    "#############################################\n",
    "### Affichage des 10 premieres trajectoires \n",
    "#############################################\n",
    "I_n = np.cumsum(Y[0:10,:], axis=1) / integers1toN\n",
    "\n",
    "Ic_n = np.cumsum( Y_controle[0:10,:], axis=1) / integers1toN\n",
    "\n",
    "## On affiche les 10 trajectoires\n",
    "fig = plt.figure()\n",
    "ax = fig.add_subplot(111)\n",
    "\n",
    "ax.plot(integers1toN, I_n[0], color=\"b\", label=\"MC\")\n",
    "ax.plot(integers1toN, I_n[1:].T, color=\"b\")\n",
    "\n",
    "ax.plot(integers1toN, Ic_n[0], color=\"g\", label=\"Controle\")\n",
    "ax.plot(integers1toN, Ic_n[1:].T, color=\"g\")\n",
    "ax.axhline(Esp_gY, color=\"r\", label=\"Esperance\")\n",
    "\n",
    "ax.set_xlim(0, N)\n",
    "ax.set_ylim(1.4, 2.2)\n",
    "ax.legend(loc=\"best\")\n",
    "plt.show()"
   ]
  },
  {
   "cell_type": "code",
   "execution_count": 56,
   "metadata": {},
   "outputs": [
    {
     "name": "stdout",
     "output_type": "stream",
     "text": [
      "Taille echantillon = 500\n",
      "Esp_gY = 1.718 \n",
      "\n",
      "Estimateur MC : moyenne= 1.673  variance emp = 0.230\n",
      "IC(95%) = [1.631,1.715] \n",
      "\n",
      "Estimateur Controle : moyenne= 1.718  variance emp = 0.004\n",
      "IC(95%) = [1.713,1.723] \n",
      "\n",
      "Gain en nombre de simulations avec variable de controle : 61.14\n"
     ]
    }
   ],
   "source": [
    "#################################################\n",
    "# Calcul des deux estimateurs I_N et I_N controle\n",
    "# et de leurs variances empiriques\n",
    "Mean_MC = np.mean(Y[0, :])\n",
    "Variance_MC = np.var(Y[0, :])\n",
    "\n",
    "Mean_controle = np.mean(Y_controle[0, :])\n",
    "Variance_controle = np.var(Y_controle[0, :])\n",
    "\n",
    "demiLargeurIC95_MC = np.sqrt(Variance_MC / N)*1.96\n",
    "demiLargeurIC95_Contr = np.sqrt(Variance_controle / N)*1.96\n",
    "\n",
    "gain_controle = Variance_MC/Variance_controle\n",
    "\n",
    "print(\"Taille echantillon = %d\" %N)\n",
    "print(\"Esp_gY = %1.3f \\n\" %Esp_gY)\n",
    "print(\"Estimateur MC : moyenne= %1.3f  variance emp = %1.3f\" \\\n",
    "      %(Mean_MC, Variance_MC))\n",
    "print(\"IC(95%%) = [%1.3f,%1.3f] \\n\" \\\n",
    "      %(Mean_MC-demiLargeurIC95_MC, Mean_MC+demiLargeurIC95_MC))\n",
    "\n",
    "print(\"Estimateur Controle : moyenne= %1.3f  variance emp = %1.3f\" \\\n",
    "      %(Mean_controle, Variance_controle))\n",
    "print(\"IC(95%%) = [%1.3f,%1.3f] \\n\" \\\n",
    "      %(Mean_controle-demiLargeurIC95_Contr, Mean_controle+demiLargeurIC95_Contr))\n",
    "\n",
    "print(\"Gain en nombre de simulations avec variable de controle : %1.2f\" %gain_controle)"
   ]
  },
  {
   "cell_type": "code",
   "execution_count": 58,
   "metadata": {},
   "outputs": [
    {
     "data": {
      "image/png": "[encoded data removed]",
      "text/plain": [
       "<Figure size 432x288 with 1 Axes>"
      ]
     },
     "metadata": {
      "needs_background": "light"
     },
     "output_type": "display_data"
    }
   ],
   "source": [
    "#############################################\n",
    "## Pour les histogrammes: evaluer les\n",
    "## erreurs des deux estimateurs I_N et I_N controle\n",
    "#############################################\n",
    "erreur_N = np.mean(Y, axis=0)\n",
    "erreur_controle_N = np.mean(Ycontrole, axis=0)\n",
    "\n",
    "plt.hist( erreur_N , density=\"True\", bins=int(np.sqrt(M)), label=\"MC\")\n",
    "\n",
    "plt.hist( erreur_controle_N, density=\"True\", bins=int(np.sqrt(M)), label=\"Controle\")\n",
    "\n",
    "plt.title(\"Estimation avec variable de controle, N = %1.0f\" %N)\n",
    "\n",
    "plt.legend(loc=\"best\")\n",
    "plt.show()"
   ]
  },
  {
   "cell_type": "markdown",
   "metadata": {},
   "source": [
    "### Exercice 2. Echantillonnage antithétique et Méthodes de stratification\n",
    "\n",
    "On suppose que les variables d'entrée $X$ sont de loi uniforme entre $-1$ et $+1$.\n",
    "On se place dans la situation $f(x)=e^x$, et $g(y)=y$, où l'on veut estimer $\\mathbb{E}\\bigl[g(Y)\\bigl]= \\mathbb{E}\\bigl[e^X\\bigl]$.\n"
   ]
  },
  {
   "cell_type": "markdown",
   "metadata": {},
   "source": [
    "####  Question 1: Méthode de Monte-Carlo de base\n",
    "\n",
    "On note $I_n$ la moyenne empirique de  $n$ copies indépendantes de $X$.\n",
    "\n",
    "Vérifier que l'on a $\\mathbb{E}\\bigl[e^X\\bigl] = \\sinh(1)\\simeq 1.18$, et $\\mbox{Var}(e^X)= \\frac{1}{2} (1-e^{-2})\\simeq 0.43$. \n",
    "\n",
    "Tracer les courbes des moyennes empiriques obtenues sur plusieurs réalisations, et comparer avec la quantité recherchée."
   ]
  },
  {
   "cell_type": "code",
   "execution_count": 59,
   "metadata": {},
   "outputs": [],
   "source": [
    "# Constantes à charger pour le reste de l'exercice\n",
    "\n",
    "N = 1000 # Taille echantillon\n",
    "integers1toN = np.arange(1,N+1) # Un vecteur contenant les entiers de 1 a N\n",
    "\n",
    "Esp_gY = np.sinh(1.0)\n",
    "Var_gY = (1.0 - np.exp(-2.))/2."
   ]
  },
  {
   "cell_type": "code",
   "execution_count": 60,
   "metadata": {
    "scrolled": false
   },
   "outputs": [
    {
     "name": "stdout",
     "output_type": "stream",
     "text": [
      "Estimateur MC \n",
      "\n",
      "Esp_gY = 1.175 Var_gY = 0.432\n",
      "mean = 1.156  var = 0.421\n",
      "Intervalle de confiance 95% pour E[g(Y)] = [ 1.116 , 1.196 ] \n",
      "\n",
      "erreur relative = 0.035\n"
     ]
    }
   ],
   "source": [
    "############################################\n",
    "# Completer avec N tirages de la loi uniforme [-1,1]\n",
    "# et les tirages de Y = exp(X)\n",
    "X = 2 * np.random.rand(N) - 1\n",
    "Y = np.exp(X)\n",
    "############################################\n",
    "\n",
    "############################################\n",
    "# Stocker dans 'mean' l'estimation MC de E[g(Y)]\n",
    "# dans 'var' la variance empirique et dans 'demiLargeurIC'\n",
    "# la demi-largeur de l'intervalle de confiance \n",
    "# asymptotique a 95% pour E[g(Y)]\n",
    "mean = np.mean(Y)\n",
    "var = np.var(Y)\n",
    "demiLargeurIC = 1.96 * np.sqrt(var / N)\n",
    "############################################\n",
    "\n",
    "print(\"Estimateur MC \\n\")\n",
    "\n",
    "print(\"Esp_gY = %1.3f Var_gY = %1.3f\" %(Esp_gY, Var_gY))\n",
    "print(\"mean = %1.3f  var = %1.3f\" %(mean,var))\n",
    "print(\"Intervalle de confiance 95%% pour E[g(Y)] = [ %1.3f , %1.3f ] \\n\" %(mean - demiLargeurIC, mean + demiLargeurIC))\n",
    "print(\"erreur relative = %1.3f\" %(demiLargeurIC/mean))\n"
   ]
  },
  {
   "cell_type": "code",
   "execution_count": 61,
   "metadata": {},
   "outputs": [
    {
     "data": {
      "image/png": "[encoded data removed]",
      "text/plain": [
       "<Figure size 432x288 with 1 Axes>"
      ]
     },
     "metadata": {
      "needs_background": "light"
     },
     "output_type": "display_data"
    }
   ],
   "source": [
    "M = 10 # nombre de réalisations de moyennes empiriques\n",
    "\n",
    "############################################\n",
    "# Evaluer M trajectoires de l'estimateur empirique I_n\n",
    "X = 2 * np.random.rand(M, N) - 1\n",
    "Y = np.exp(X)\n",
    "I_n = np.cumsum(Y, axis=1)/integers1toN\n",
    "############################################\n",
    "\n",
    "# Affichage des trajectoires\n",
    "fig = plt.figure()\n",
    "ax = fig.add_subplot(111)\n",
    "ax.plot(integers1toN, I_n.T, color=\"b\")\n",
    "\n",
    "ax.set_xlim(0, N)\n",
    "ax.set_ylim(1.0, 1.3)\n",
    "ax.axhline(Esp_gY, color=\"r\", label=\"Esperance\")\n",
    "ax.legend(loc=\"best\")\n",
    "plt.show()"
   ]
  },
  {
   "cell_type": "markdown",
   "metadata": {},
   "source": [
    "####  Question 2: Echantillonnage antithétique\n",
    "\n",
    "Vérifier que $(f(u)-f(v))(f(-u)-f(-v))\\leq 0$, pour tout $(u,v)\\in [-1,1]$, et en déduire une technique\n",
    "d'échantillonnage antithétique fondée sur la simulation de $n$ variables uniformes sur $[-1,1]$. \n",
    "\n",
    "On note $I^{\\prime}_n$ l'estimateur empirique correspondant.\n",
    "\n",
    "Tracer les courbes des moyennes empiriques obtenues. \n",
    "\n",
    "Quel est le gain en termes de nombre de simulations de cet estimateur,\n",
    "pour la même précision asymptotique que la méthode de Monte-Carlo naive?"
   ]
  },
  {
   "cell_type": "code",
   "execution_count": 62,
   "metadata": {},
   "outputs": [
    {
     "name": "stdout",
     "output_type": "stream",
     "text": [
      "Estimateur antithetique \n",
      "\n",
      "Esp_gY = 1.175\n",
      "I_prime_mean = 1.168  var empirique = 0.025\n",
      "Intervalle de confiance 95% pour E[g(Y)] = [ 1.159 , 1.178 ] \n",
      "\n",
      "erreur relative = 0.008\n",
      "gain en nombre de simulations par rapport a MC : 17.52\n"
     ]
    }
   ],
   "source": [
    "############################################\n",
    "# Completer avec N de tirages de la loi uniforme [-1,1]\n",
    "# et les tirages antithetiques\n",
    "X = 2 * np.random.rand(N) - 1\n",
    "Z = 0.5*(np.exp(X)+np.exp(-X))\n",
    "############################################\n",
    "\n",
    "############################################\n",
    "# Completer avec le calcul de l'estimateur antithetique\n",
    "mean = np.mean(Z)\n",
    "var = np.var(Z)\n",
    "demiLargeurIC = 1.96 * np.sqrt(var/N)\n",
    "############################################\n",
    "\n",
    "print(\"Estimateur antithetique \\n\")\n",
    "\n",
    "print(\"Esp_gY = %1.3f\" %(Esp_gY))\n",
    "print(\"I_prime_mean = %1.3f  var empirique = %1.3f\" %(mean, var))\n",
    "print(\"Intervalle de confiance 95%% pour E[g(Y)] = [ %1.3f , %1.3f ] \\n\" %(mean - demiLargeurIC, mean + demiLargeurIC))\n",
    "print(\"erreur relative = %1.3f\" %(demiLargeurIC/mean))\n",
    "print(\"gain en nombre de simulations par rapport a MC : %1.2f\" %(Var_gY/var))\n"
   ]
  },
  {
   "cell_type": "code",
   "execution_count": 63,
   "metadata": {},
   "outputs": [
    {
     "data": {
      "image/png": "[encoded data removed]",
      "text/plain": [
       "<Figure size 432x288 with 1 Axes>"
      ]
     },
     "metadata": {
      "needs_background": "light"
     },
     "output_type": "display_data"
    }
   ],
   "source": [
    "############################################\n",
    "## Trajectoires de la moyenne empirique\n",
    "############################################\n",
    "\n",
    "############################################\n",
    "# Evaluer M trajectoires de l'estimateur empirique I'_n\n",
    "X = 2 * np.random.rand(M, N) - 1\n",
    "Z = 0.5*(np.exp(X)+np.exp(-X))\n",
    "\n",
    "############################################\n",
    "# Completer avec le calcul des trajectoires\n",
    "# de l'estimateur antithetique\n",
    "I_prime_n = np.cumsum(Z, axis=1) / integers1toN\n",
    "############################################\n",
    "\n",
    "# Affichage des trajectoires de l'estimateur\n",
    "fig = plt.figure()\n",
    "ax = fig.add_subplot(111)\n",
    "ax.plot(integers1toN, I_prime_n.T, color=\"b\")\n",
    "\n",
    "ax.set_xlim(0, N)\n",
    "ax.set_ylim(1.0, 1.3)\n",
    "ax.axhline(Esp_gY, color=\"r\", label=\"Esperance\")\n",
    "ax.legend(loc=\"best\")\n",
    "plt.show()"
   ]
  },
  {
   "cell_type": "markdown",
   "metadata": {},
   "source": [
    "####  Question 3: **Stratification proportionnelle** \n",
    "Proposer une technique de stratification proportionnelle fondée sur la simulation de variables \n",
    "uniformes sur $[-1,0]$, et uniformes sur $[0,1]$.\n",
    "\n",
    "On note $J_n$ l'estimateur correspondant.\n",
    "Tracer les trajectoires de l'estimateur en fonction de $n$.\n",
    "Cet estimateur satisfait-il un TCL?\n",
    "Quel est le gain en termes de nombre de simulations de cet estimateur, pour la même précision asymptotique que la méthode Monte-Carlo naive?\n",
    "\n",
    "Peut-on calculer explicitement $\\mbox{Var}(J_n)$? (voir question 5)"
   ]
  },
  {
   "cell_type": "code",
   "execution_count": null,
   "metadata": {},
   "outputs": [],
   "source": [
    "# Stratification proportionnelle (on prendra N pair)\n",
    "N1 = int(N/2); N2 = N1\n",
    "\n",
    "############################################\n",
    "# Completer avec N1 et N2 tirages des lois\n",
    "# conditionnelles sur les strates\n",
    "X1 = ?????\n",
    "X2 = ?????\n",
    "############################################\n",
    "\n",
    "############################################\n",
    "# Completer avec le calcul de l'estimateur stratifie\n",
    "J_N = ?????\n",
    "\n",
    "############################################\n",
    "# Evaluer par simulation la variance asymptotique\n",
    "# dans le TCL pour l'estimateur J_N\n",
    "############################################\n",
    "var = ?????\n",
    "\n",
    "demiLargeurIC = 1.96*np.sqrt(var / N)\n",
    "erreurRelative = demiLargeurIC / J_N\n",
    "\n",
    "#######\n",
    "print(\"Estimateur par stratification proportionnelle \\n\")\n",
    "\n",
    "print(\"Esp_gY = %1.3f Var_gY = %1.3f\" %(Esp_gY, Var_gY))\n",
    "print(\"J_N = %1.3f  variance estimee  = %1.3f\" %(J_N, var))\n",
    "print(\"IC = [%1.3f,%1.3f] \\n\" %(J_N - demiLargeurIC, J_N + demiLargeurIC))\n",
    "print(\"erreurRelative = %1.3f\" %erreurRelative)\n",
    "\n",
    "print(\"gain en nombre de simulations par rapport a MC : %1.2f\" %(Var_gY/var))\n"
   ]
  },
  {
   "cell_type": "code",
   "execution_count": null,
   "metadata": {},
   "outputs": [],
   "source": [
    "############################################\n",
    "## Trajectoires de l'estimateur stratifie J_n\n",
    "## pour n = 2,4,...,N\n",
    "############################################\n",
    "M = int(10)\n",
    "\n",
    "############################################\n",
    "# Completer avec M x N1 et M x N2 tirages\n",
    "# des lois conditionnelles sur les strates\n",
    "X1 = ?????\n",
    "X2 = ?????\n",
    "############################################\n",
    "\n",
    "J_n = np.zeros((M,int(N/2)))\n",
    "\n",
    "############################################\n",
    "# Completer avec le calcul de l'estimateur\n",
    "# stratifie pour n = 2,4,...,N\n",
    "\n",
    "for n in np.arange(2, N+2, 2):\n",
    "    n1 = n/2\n",
    "    J_n[:, n1-1] = ?????\n",
    "\n",
    "############################################\n",
    "# Affichage des trajectoires de l'estimateur\n",
    "## stratifie pour n = 2,4,...,N\n",
    "\n",
    "evenIntegers1toN = np.arange(2,N+2,2)\n",
    "\n",
    "fig = plt.figure()\n",
    "ax = fig.add_subplot(111)\n",
    "ax.plot(evenIntegers1toN, J_n[1:10,:].T, color=\"b\")\n",
    "\n",
    "ax.set_ylim(1.0, 1.3)\n",
    "ax.axhline(Esp_gY, color=\"r\", label=\"Esperance\")\n",
    "ax.legend(loc=\"best\")\n",
    "plt.show()\n"
   ]
  },
  {
   "cell_type": "markdown",
   "metadata": {},
   "source": [
    "####  Question 4: Stratification non proportionnelle\n",
    "Proposer une technique de stratification  fondée sur la simulation d'une proportion $n_1=rn$ de variables \n",
    "uniformes sur $[-1,0]$, et $n_2=(1-r)n$ de variables uniformes sur $[0,1]$, avec $r \\in (0,1)$ tel que $n_1,n_2$ soient entiers. \n",
    "\n",
    "Tracer les trajectoires de ces estimateurs en fonction de $n$, pour différentes valeurs de $r$."
   ]
  },
  {
   "cell_type": "code",
   "execution_count": null,
   "metadata": {},
   "outputs": [],
   "source": [
    "# Stratification non proportionnelle\n",
    "def stratificationNonProportionnelle(r):\n",
    "    N1 = int(N*r)\n",
    "    N2 = int(N - N1)\n",
    "    \n",
    "    ################\n",
    "    # Completer avec N1 et N2 tirages\n",
    "    # des lois conditionnelles sur les strates\n",
    "    X1 = ?????\n",
    "    X2 = ?????\n",
    "    ################\n",
    "    \n",
    "    ################\n",
    "    # Estimateur stratifie\n",
    "    J_N = ?????\n",
    "    \n",
    "    ############################################################\n",
    "    # On evalue par simulation la variance de l'estimateur J_N\n",
    "    var = ?????\n",
    "        \n",
    "    demiLargeurIC = 1.96*np.sqrt(var)\n",
    "    \n",
    "    erreurRelative = demiLargeurIC / J_N\n",
    "    \n",
    "    print(\"Estimateur par stratification non proportionnelle, r = %1.2f \\n\" %r)\n",
    "    \n",
    "    print(\"Esp_gY = %1.3f Var_gY = %1.3f\" %(Esp_gY, Var_gY))\n",
    "    print(\"J_N = %1.3f  var*N = %1.3f\" %(J_N, var))\n",
    "    print(\"IC = [%1.3f,%1.3f] \\n\" %(J_N - demiLargeurIC, J_N + demiLargeurIC))\n",
    "    \n",
    "    print(\"erreurRelative = %1.3f\" %erreurRelative)\n",
    "    print(\"gain en nombre de simulations par rapport a MC : %1.2f\" %(Var_gY/var))\n",
    "    \n",
    "    ############################################\n",
    "    ## Trajectoires de l'estimateur stratifie pour n=1,..,N\n",
    "    ############################################\n",
    "    M = 10\n",
    "    \n",
    "    #####################\n",
    "    # Completer avec M x N1 et M x N2 tirages\n",
    "    # des lois conditionnelles sur les strates\n",
    "    #X1 = ?????\n",
    "    #X2 = ?????\n",
    "    \n",
    "    Y1 = np.exp(X1); Y2 = np.exp(X2)\n",
    "    \n",
    "    J_n = np.zeros((M,N))\n",
    "    \n",
    "    #####################\n",
    "    # Completer avec le calcul de l'estimateur\n",
    "    # stratifie pour les differentes valeurs de n\n",
    "    for n in np.arange(int(1/r),N):\n",
    "        n1 = int(n*r)\n",
    "        n2 = n-n1\n",
    "        J_n[:,n] = ?????\n",
    "        \n",
    "    ############################################\n",
    "    # Affichage des trajectoire\n",
    "    integers1toN = np.arange(1,N+1)\n",
    "    \n",
    "    fig = plt.figure()\n",
    "    ax = fig.add_subplot(111)\n",
    "    ax.plot(integers1toN, J_n[1:10,:].T, color=\"b\")\n",
    "    \n",
    "    ax.set_ylim(1.0, 1.3)\n",
    "    ax.axhline(Esp_gY, color=\"r\", label=\"Esperance\")\n",
    "    ax.legend(loc=\"best\")\n",
    "    plt.show()\n",
    "\n",
    "#stratificationNonProportionnelle(0.8)\n",
    "#stratificationNonProportionnelle(0.4)\n",
    "#stratificationNonProportionnelle(0.2)"
   ]
  },
  {
   "cell_type": "markdown",
   "metadata": {},
   "source": [
    "####  Question 5: Stratification optimale  sur les deux strates $(S_1,S_2)=([-1,0],[0,1])$\n",
    "\n",
    "Calculer les valeurs des paramètres\n",
    "\\begin{eqnarray*}\n",
    "\\sigma_1^2&:=&\\mathbb{E}\\bigl[e^{2X}~|~X\\in[-1,0]\\bigl] - \\mathbb{E}\\bigl[e^{X}~|~X\\in[-1,0]\\bigl]^2\\\\\n",
    "\\sigma_2^2&:=&\\mathbb{E}\\bigl[e^{2X}~|~X\\in[0,1]\\bigl] - \\mathbb{E}\\bigl[e^{X}~|~X\\in[0,1]\\bigl]^2\n",
    "\\end{eqnarray*}\n",
    "et proposer une technique de stratification optimale. \n",
    "Simuler l'estimateur empirique associé, tracer ses trajectoires.\n"
   ]
  },
  {
   "cell_type": "code",
   "execution_count": null,
   "metadata": {},
   "outputs": [],
   "source": [
    "## Calcul explicite de sigma_1, sigma_2\n",
    "sigma_1 = np.sqrt(0.5*(1.-np.exp(-2)) - (1.-np.exp(-1))**2)\n",
    "sigma_2 = np.sqrt(0.5*(np.exp(2)-1.) - (np.exp(1)-1.)**2)\n",
    "\n",
    "############################################\n",
    "## Calculer le N1 optimal\n",
    "#r = ??????\n",
    "\n",
    "N1 = int(N *r)\n",
    "N2 = int(N - N1)\n",
    "\n",
    "############################################\n",
    "## Simulation de l'estimateur par stratification\n",
    "## non proportionnelle avec N1 optimal\n",
    "## \n",
    "## C'est le meme code que la Question 4: on pourrait directement appeler \n",
    "## la fonction stratificationNonProportionnelle(r)\n",
    "## La seule différence dans le code ci-dessous est que l'on utilise\n",
    "## variance explicite de l'estimateur stratifié, au lieu de l'estimer.\n",
    "#X1 = ??????\n",
    "#X2 = ??????\n",
    "\n",
    "############################################\n",
    "# Estimateur stratifie\n",
    "#J_N = ??????\n",
    "\n",
    "############################################\n",
    "## Calculer la variance de l'estimateur J_N optimal.\n",
    "## On peut utiliser l'expression explicite de la variance de J_N\n",
    "#var = ??????\n",
    "\n",
    "demiLargeurIC = 1.96 * np.sqrt(var / N)\n",
    "erreurRelative = demiLargeurIC / J_N\n",
    "\n",
    "############################################\n",
    "print(\"Estimateur par stratification non proportionnelle optimale, r_optimal = %1.3f\" %r)\n",
    "\n",
    "print(\"Esp_gY = %1.3f Var_gY = %1.3f\" %(Esp_gY,Var_gY))\n",
    "print(\"J_mean = %1.3f  variance_theorique = %1.3f\" %(J_N, var))\n",
    "print(\"IC = [%1.3f,%1.3f] \\n\" %(J_N - demiLargeurIC, J_N + demiLargeurIC))\n",
    "\n",
    "print(\"erreurRelative = %1.3f\" %erreurRelative)\n",
    "print(\"gain theorique en nombre de simulations par rapport a MC : %1.2f\" %(Var_gY/var))"
   ]
  },
  {
   "cell_type": "code",
   "execution_count": null,
   "metadata": {},
   "outputs": [],
   "source": [
    "############################################\n",
    "# Completer avec le calcul des trajectoires de \n",
    "# l'estimateur pour les differentes valeurs de n\n",
    "J_n = np.zeros((M,N))\n",
    "\n",
    "for n in np.arange(int(1/r),N):\n",
    "    n1 = int(n*r)\n",
    "    n2 = n-n1\n",
    "    J_n[:,n] = ?????\n",
    "    \n",
    "############################################\n",
    "# Affichage des trajectoires \n",
    "integers1toN = np.arange(1,N+1)\n",
    "\n",
    "fig = plt.figure()\n",
    "ax = fig.add_subplot(111)\n",
    "ax.plot(integers1toN, J_n[1:10,:].T, color=\"b\")\n",
    "\n",
    "ax.set_ylim(1.0, 1.3)\n",
    "ax.axhline(Esp_gY, color=\"r\", label=\"Esperance\")\n",
    "ax.legend(loc=\"best\")\n",
    "plt.show()"
   ]
  }
 ],
 "metadata": {
  "kernelspec": {
   "display_name": "Python 3",
   "language": "python",
   "name": "python3"
  },
  "language_info": {
   "codemirror_mode": {
    "name": "ipython",
    "version": 3
   },
   "file_extension": ".py",
   "mimetype": "text/x-python",
   "name": "python",
   "nbconvert_exporter": "python",
   "pygments_lexer": "ipython3",
   "version": "3.8.5"
  }
 },
 "nbformat": 4,
 "nbformat_minor": 2
}
