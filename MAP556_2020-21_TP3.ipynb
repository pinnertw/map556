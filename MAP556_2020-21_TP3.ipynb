{
 "cells": [
  {
   "cell_type": "markdown",
   "metadata": {},
   "source": [
    "### MAP556, Ecole Polytechnique, 2020-21"
   ]
  },
  {
   "cell_type": "markdown",
   "metadata": {},
   "source": [
    "# TP 3 - Réduction de variance par échantillonage d'importance"
   ]
  },
  {
   "cell_type": "markdown",
   "metadata": {},
   "source": [
    "### Exercice.  Echantillonnage d'importance\n",
    "\n",
    "On souhaite évaluer l'espérance $\\mathbb E[ g(Y)] $ où $g(y)=(y-2)^+$ et la variable $Y$ est de loi gaussienne centrée réduite."
   ]
  },
  {
   "cell_type": "markdown",
   "metadata": {},
   "source": [
    "####  Question 1\n",
    "Vérifier par intégration numérique (quadrature), puis par simulation que $\\mathbb{E}\\bigl[g(Y)\\bigl]= m \\simeq 8.5 \\times 10^{-3}$ et $\\mbox{Var}(g(Y)) = \\sigma^2 \\simeq 5.7 \\times10^{-3}$.\n",
    "\n",
    "On pourra utiliser la fonction `scipy.integrate.quad`: vérifier dans la documentation de la fonction ses variables d'entrée et de sortie. \n",
    "\n",
    "Tracer les trajectoires des moyennes empiriques $I_n = \\frac 1 n \\sum_{i=1}^n (Y_i - 2)^+$ obtenues à partir de $n$ copies indépendantes $(Y_i)_{1 \\le  i \\le n}$ de $Y$, puis l'histogramme des erreurs."
   ]
  },
  {
   "cell_type": "code",
   "execution_count": null,
   "metadata": {},
   "outputs": [],
   "source": [
    "import numpy as np\n",
    "import matplotlib.pyplot as plt\n",
    "from scipy.integrate import quad"
   ]
  },
  {
   "cell_type": "code",
   "execution_count": null,
   "metadata": {},
   "outputs": [],
   "source": [
    "# densite Gaussienne standard\n",
    "def densiteGaussienne(x):\n",
    "    return np.exp(-x**2./2.) / np.sqrt(2.*np.pi)\n",
    "\n",
    "# fonction g\n",
    "def g(x):\n",
    "    return np.maximum(x-2.,0.)\n",
    "\n",
    "############################################\n",
    "# Calculer E[g(Y)] et Var[g(Y)] avec quadrature\n",
    "# numerique (par ex. scipy.integrate.quad )\n",
    "#Esp_gY = ?????\n",
    "#Var_gY = ?????\n",
    "\n",
    "print(\"Esp_gY = %1.2e  Var_gY = %1.2e \\n\" %(Esp_gY,Var_gY))"
   ]
  },
  {
   "cell_type": "code",
   "execution_count": null,
   "metadata": {},
   "outputs": [],
   "source": [
    "N = 2000 # Taille echantillon\n",
    "integers1toN = np.arange(1,N+1) # Un vecteur contenant les entiers de 1 a N\n",
    "\n",
    "############################################\n",
    "# Completer avec N tirages de la loi gaussienne\n",
    "# centree reduite\n",
    "#Y = ?????\n",
    "\n",
    "# On calcule la fonction g(Y) sur l'echantillon\n",
    "#GY = ?????\n",
    "\n",
    "############################################\n",
    "# Stocker dans 'mean' l'estimation MC de E[g(Y)]\n",
    "# dans 'var' la variance empirique \n",
    "# et dans 'demiLargeurIC' la demi-largeur de l'intervalle de confiance \n",
    "# asymptotique a 95% pour E[g(Y)]\n",
    "#mean = ?????\n",
    "#var = ?????\n",
    "#demiLargeurIC = ?????\n",
    "\n",
    "print(\"mean = %1.2e  var = %1.2e\" %(mean,var) )\n",
    "print(\"Intervalle de confiance 95%% pour E[g(Y)] = [ %1.2e , %1.2e ] \\n\" %(mean - demiLargeurIC, mean + demiLargeurIC))\n",
    "print(\"erreur relative = %1.2f\" %(demiLargeurIC/mean))\n",
    "\n",
    "################################################\n",
    "# Trajectoires de la moyenne empirique\n",
    "################################################\n",
    "M = 10 # Nombre de repetitions \n",
    "\n",
    "################################\n",
    "# Evaluer les M tirages de l'estimateur empirique I_n pour n=1,...,N\n",
    "\n",
    "# Dimension souhaitée pour I_n: array M x N\n",
    "#I_n = ?????\n",
    "\n",
    "################################\n",
    "# Affichage des trajectoires\n",
    "fig = plt.figure()\n",
    "ax = fig.add_subplot(111)\n",
    "ax.plot(integers1toN, I_n[0], color=\"b\", label=\"Moyenne empirique\")\n",
    "ax.plot(integers1toN, I_n.T, color=\"b\")\n",
    "\n",
    "ax.set_xlim(0, N)\n",
    "ax.set_ylim(0, 4*Esp_gY)\n",
    "ax.axhline(Esp_gY, color=\"r\", label=\"Esperance\")\n",
    "ax.legend(loc=\"best\")\n",
    "plt.show()"
   ]
  },
  {
   "cell_type": "markdown",
   "metadata": {},
   "source": [
    "####  Question 2: Echantillonnage d'importance \n",
    "\n",
    "**(a)** Montrer que si $Z$ est une variable aléatoire gaussienne réduite et centrée en $\\theta$, on a\n",
    "\n",
    "$$\n",
    "\\mathbb{E} [ g(Y) ]\n",
    "=\n",
    "\\mathbb{E} \\Bigl[ g(Z) \\, e^{-\\theta \\, Z + \\frac{\\theta^2}2} \\Bigr]\n",
    "$$\n",
    "\n",
    "Quel est l'intérêt d'une telle formule?\n",
    "\n",
    "**(b)** Proposer un estimateur de $\\mathbb{E}[g(Y)]$ basé sur la simulation de la loi gaussienne réduite et centrée en $2$.\n",
    "On note $J_n$ cet estimateur. Vérifier par simulation que\n",
    " $\\mbox{Var}\\biggl(g(Z)e^{-\\theta Z + \\frac{\\theta^2}2}\\biggr) = \\sigma_J^2 \\simeq~9.7\\times10^{-5}$.\n",
    " \n",
    "Tracer les trajectoires de l'estimateur $J_n$, comparer avec la quantité recherchée. Quel est le gain en termes de nombre de simulations de cet estimateur,\n",
    "pour la même précision asymptotique que la méthode de Monte Carlo naive?"
   ]
  },
  {
   "cell_type": "code",
   "execution_count": null,
   "metadata": {},
   "outputs": [],
   "source": [
    "theta = 2.\n",
    "\n",
    "def g_importance(z, theta=theta):\n",
    "    return np.maximum(z-2.,0.) * np.exp(-theta*z + theta*theta/2.)\n",
    "\n",
    "############################################\n",
    "# Calculer la moyenne theorique de l'estimateur d'importance\n",
    "# avec quadrature numerique (par ex. scipy.integrate.quad)\n",
    "# pour vérifier la formule donnée dans la question 2 (a)\n",
    "\n",
    "Esp_g_theta = ???? \n",
    "\n",
    "print(\"Esp_g_theta = %1.2e \\n\" %Esp_g_theta)"
   ]
  },
  {
   "cell_type": "code",
   "execution_count": null,
   "metadata": {},
   "outputs": [],
   "source": [
    "N = 2000 # Taille echantillon\n",
    "integers1toN = np.arange(1,N+1)\n",
    "\n",
    "############################################\n",
    "# Completer avec N tirages de la loi gaussienne\n",
    "# centree en theta=2\n",
    "# et avec le calcul de  l'estimateur d'importance\n",
    "J_N = ????\n",
    "\n",
    "# variance empirique et Intervalle de confiance\n",
    "var = ????\n",
    "demiLargeurIC = ????\n",
    "\n",
    "print(\"Jmean = %1.2e  Jvar = %1.2e\" %(J_N, var))\n",
    "print(\"Intervalle de confiance 95%% pour E[g(Y)] = [ %1.2e , %1.2e ]\" %(J_N - demiLargeurIC, J_N + demiLargeurIC))\n",
    "print(\"erreur relative = %1.3f \\n\" %(demiLargeurIC/J_N))\n",
    "\n",
    "################################################\n",
    "# Trajectoires de l'estimateur empirique\n",
    "################################################\n",
    "M = 10\n",
    "\n",
    "################################\n",
    "# Completer avec M tirages de l'estimateur d'importance\n",
    "# J_n pour n = 1,...,N\n",
    "J_n = ?????\n",
    "\n",
    "# Affichage des 10 trajectoires\n",
    "fig = plt.figure()\n",
    "ax = fig.add_subplot(111)\n",
    "ax.plot(integers1toN, J_n[0], color=\"b\", label=\"Estimateur par echantillonage d'importance\")\n",
    "ax.plot(integers1toN, J_n.T, color=\"b\")\n",
    "\n",
    "ax.set_xlim(0, N)\n",
    "ax.set_ylim(0, 4*Esp_g_theta)\n",
    "ax.axhline(Esp_g_theta, color=\"r\", label=\"Esperance\")\n",
    "ax.legend(loc=\"best\")\n",
    "plt.show()"
   ]
  },
  {
   "cell_type": "markdown",
   "metadata": {},
   "source": [
    "####  Question 3: \n",
    "Comparer graphiquement les histogrammes des erreurs des estimateurs $I_n$ et $J_n$, pour $n=1000$."
   ]
  },
  {
   "cell_type": "code",
   "execution_count": null,
   "metadata": {},
   "outputs": [],
   "source": [
    "M = 1000 # Nombre de tirages\n",
    "N = 1000 # Taille echantillon\n",
    "\n",
    "############################################\n",
    "# Completer avec M x N tirages des \n",
    "# echantillons a partir de la loi N(0,1)\n",
    "# et a partir de la loi N(2,1)\n",
    "GY = ?????\n",
    "\n",
    "GY_importance = ?????\n",
    "\n",
    "############################################\n",
    "# Completer avec le calcul des erreurs des deux estimateurs\n",
    "# erreurs: echantillons de taille M\n",
    "\n",
    "erreurMC = ?????\n",
    "erreurImportance = ?????\n",
    "\n",
    "# Affichage de l'histogramme de l'erreur pour l'estimateur MC\n",
    "# et pour l'estimateur d'importance\n",
    "plt.hist(erreurMC, density=\"True\", bins=int(np.sqrt(M)), label=\"erreur MC\")\n",
    "\n",
    "plt.hist(erreurImportance, density=\"True\", bins=int(np.sqrt(M)), label=\"erreur Imp\")\n",
    "\n",
    "plt.legend(loc=\"best\")\n",
    "plt.show()"
   ]
  }
 ],
 "metadata": {
  "kernelspec": {
   "display_name": "Python 3",
   "language": "python",
   "name": "python3"
  },
  "language_info": {
   "codemirror_mode": {
    "name": "ipython",
    "version": 3
   },
   "file_extension": ".py",
   "mimetype": "text/x-python",
   "name": "python",
   "nbconvert_exporter": "python",
   "pygments_lexer": "ipython3",
   "version": "3.8.5"
  }
 },
 "nbformat": 4,
 "nbformat_minor": 2
}
