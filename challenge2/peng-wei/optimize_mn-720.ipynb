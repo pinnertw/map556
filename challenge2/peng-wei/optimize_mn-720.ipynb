{
 "cells": [
  {
   "cell_type": "code",
   "execution_count": 1,
   "metadata": {},
   "outputs": [],
   "source": [
    "from Angrybird import AngryBird\n",
    "import numpy as np\n",
    "import matplotlib.pyplot as plt\n",
    "from tqdm.notebook import tqdm\n",
    "env=AngryBird()"
   ]
  },
  {
   "cell_type": "markdown",
   "metadata": {},
   "source": [
    "# 720 coeffs"
   ]
  },
  {
   "cell_type": "code",
   "execution_count": 2,
   "metadata": {},
   "outputs": [],
   "source": [
    "coeffs_temp = np.load(\"l.npy\")"
   ]
  },
  {
   "cell_type": "code",
   "execution_count": 3,
   "metadata": {},
   "outputs": [],
   "source": [
    "coeffs = np.ones((10, 12, 6))\n",
    "for i in range(10):\n",
    "    for j in range(12):\n",
    "        coeffs[i][j] = coeffs_temp[i][j//3]"
   ]
  },
  {
   "cell_type": "code",
   "execution_count": 4,
   "metadata": {},
   "outputs": [],
   "source": [
    "seconds = np.arange(11)\n",
    "pos = np.zeros((11, 2))\n",
    "pos[:, 0] = seconds * 10\n",
    "pos[:, 1] = seconds * 20 - 2 * seconds**2\n",
    "quantiles = np.load(\"quantiles.npy\")\n",
    "mean_states = np.load(\"mean_states.npy\")"
   ]
  },
  {
   "cell_type": "code",
   "execution_count": 5,
   "metadata": {},
   "outputs": [],
   "source": [
    "sqr2 = 1/np.sqrt(2)\n",
    "rot = np.array([[sqr2, -sqr2],\n",
    "               [sqr2, sqr2]])"
   ]
  },
  {
   "cell_type": "raw",
   "metadata": {},
   "source": [
    "vents = np.load(\"vents.npy\")\n",
    "nul=np.zeros(2)\n",
    "\n",
    "#costs = 0.\n",
    "m = 10000\n",
    "states = np.zeros((m, 10, 2))\n",
    "for z in tqdm(range(m)):\n",
    "    state = env.reset(False)\n",
    "    env.vent = vents[z]\n",
    "    for y in range(10):\n",
    "        states[z][y] = np.copy(rot.dot(state[1:] - mean_states[y]))\n",
    "        force = main(state, coeffs_temp)\n",
    "        state, _, _, _ = env.step(force)\n",
    "    state, _, _, _ = env.step(nul)\n",
    "quantiles = np.quantile(states, np.linspace(1/12, 11/12, 11),axis=0)[:, :, 0]\n",
    "np.save(\"quantiles_720\", quantiles)"
   ]
  },
  {
   "cell_type": "raw",
   "metadata": {},
   "source": [
    "vents = np.load(\"vents.npy\")\n",
    "nul=np.zeros(2)\n",
    "\n",
    "#costs = 0.\n",
    "m = 10000\n",
    "states = np.zeros((m, 10, 2))\n",
    "for z in tqdm(range(m)):\n",
    "    state = env.reset(False)\n",
    "    env.vent = vents[z]\n",
    "    for y in range(10):\n",
    "        states[z][y] = np.copy(state[1:])\n",
    "        force = main(state, coeffs)\n",
    "        state, _, _, _ = env.step(force)\n",
    "    state, _, _, _ = env.step(nul)\n",
    "mean_states = states.mean(axis=0)\n",
    "np.save(\"mean_states_720\", mean_states)"
   ]
  },
  {
   "cell_type": "code",
   "execution_count": 6,
   "metadata": {},
   "outputs": [],
   "source": [
    "mean_states = np.load(\"mean_states_720.npy\")"
   ]
  },
  {
   "cell_type": "code",
   "execution_count": 7,
   "metadata": {},
   "outputs": [
    {
     "name": "stdout",
     "output_type": "stream",
     "text": [
      "[-2.53166791 -1.76423279 -1.22126597 -0.78292571 -0.38405904 -0.00407853\n",
      "  0.38596131  0.76425896  1.21826352  1.71814687  2.4793811 ]\n",
      "10\n"
     ]
    }
   ],
   "source": [
    "quantiles = np.load(\"quantiles_720.npy\")\n",
    "print(quantiles[:, 5])\n",
    "print(np.searchsorted(quantiles[:, 5],2, side=\"left\"))"
   ]
  },
  {
   "cell_type": "code",
   "execution_count": 8,
   "metadata": {},
   "outputs": [],
   "source": [
    "def main(state, coeffs):\n",
    "    t = int(state[0])\n",
    "    a, _ = rot.dot(state[1:] - mean_states[t])\n",
    "    i = np.searchsorted(quantiles[:, t],a, side=\"left\")\n",
    "    return coeffs[t, i, :2]*pos[t]-coeffs[t, i, 2:4]*state[1:] + coeffs[t, i, 4:]"
   ]
  },
  {
   "cell_type": "code",
   "execution_count": null,
   "metadata": {
    "scrolled": true
   },
   "outputs": [
    {
     "name": "stdout",
     "output_type": "stream",
     "text": [
      "100 1000 0.0001 110.15783572575039 116.52970390445921 26.487443463007608\n",
      "100 1000 0.0001 110.02340056778694 116.50975825646655 26.66112722158432\n",
      "100 1000 0.0001 109.89638947611078 116.52569096906522 26.27198135058085\n",
      "200 1100 5e-05 116.15303048695705 117.55221663774213 52.76536260843277\n",
      "200 1100 5e-05 116.09969253991594 117.52697575272444 53.082674554983775\n",
      "200 1100 5e-05 116.05771328071211 117.51951933457157 56.15034688711167\n",
      "200 1100 5e-05 116.02276379143922 117.5093228520132 55.66919087966283\n",
      "200 1100 5e-05 115.99120452700697 117.50505697217338 54.81696545283\n",
      "200 1100 5e-05 115.96368173855912 117.49885003083284 55.1381876150767\n",
      "200 1100 5e-05 115.93509787913797 117.49764906506607 55.18656104405721\n",
      "200 1100 5e-05 115.91216362733127 117.49451144913895 55.317476499080655\n",
      "200 1100 5e-05 115.89258189930096 117.49201970825867 59.70830765962601\n",
      "200 1100 5e-05 115.87319793126693 117.50116268844579 57.633403944969174\n",
      "300 1200 2.5e-05 112.97683417387812 116.00324024763712 83.59928089777628\n",
      "300 1200 2.5e-05 112.96152515804114 116.00063050352561 83.55182837645212\n",
      "300 1200 2.5e-05 112.9478455151396 115.99312924702177 83.59422651926677\n",
      "300 1200 2.5e-05 112.9360317110386 115.98598190654573 83.4136374394099\n",
      "300 1200 2.5e-05 112.92542335628035 115.97675651233638 83.60621635516485\n",
      "300 1200 2.5e-05 112.91528943823488 115.97147831251212 83.58418263991673\n"
     ]
    }
   ],
   "source": [
    "from time import time\n",
    "nul=np.zeros(2)\n",
    "m = 100\n",
    "n = 1000\n",
    "vents = np.load(\"vents.npy\")\n",
    "ecart = 0.0001\n",
    "cos_min = 400.\n",
    "while cos_min > 100:\n",
    "    t = -time()\n",
    "    for i in range(10):\n",
    "        for l in range(12):\n",
    "            for k in range(6):\n",
    "                coeff_change = np.linspace(coeffs[i][l][k]-ecart, coeffs[i][l][k]+ecart, 9)\n",
    "                costs = np.zeros(9)\n",
    "                for j in range(9):\n",
    "                    coeffs[i][l][k] = coeff_change[j]\n",
    "                    for z in range(m):\n",
    "                        state = env.reset()\n",
    "                        env.vent = vents[z]\n",
    "                        for _ in range(10):\n",
    "                            force = main(state, coeffs)\n",
    "                            state, _, _, _ = env.step(force)\n",
    "                        env.step(nul)\n",
    "                        costs[j] += env.cost.sum()\n",
    "                coeffs[i][l][k] = coeff_change[np.argmin(costs)]\n",
    "    cos = 0.\n",
    "    for z in range(n):\n",
    "        state = env.reset(False)\n",
    "        env.vent = vents[z]\n",
    "        for _ in range(10):\n",
    "            force = main(state, coeffs)\n",
    "            state, _, _, _ = env.step(force)\n",
    "        env.step(nul)\n",
    "        cos += env.cost.sum()\n",
    "    cos /= n\n",
    "    t += time()\n",
    "    print(m, n, ecart, costs.min()/m, cos, t/60)\n",
    "    if cos < cos_min:\n",
    "        cos_min = cos\n",
    "        np.save(\"c_720\", coeffs)\n",
    "    else:\n",
    "        cos_min = cos + 20\n",
    "        m += 100\n",
    "        n += 100\n",
    "        ecart /= 2"
   ]
  },
  {
   "cell_type": "code",
   "execution_count": null,
   "metadata": {},
   "outputs": [],
   "source": [
    "vents = np.load(\"vents.npy\")\n",
    "mean_states = np.load(\"mean_states.npy\")\n",
    "nul=np.zeros(2)\n",
    "costs = 0.\n",
    "m = 1100\n",
    "for z in tqdm(range(m)):\n",
    "    state = env.reset(False)\n",
    "    env.vent = vents[z]\n",
    "    for y in range(10):\n",
    "        force = main(state, coeffs)\n",
    "        state, _, _, _ = env.step(force)\n",
    "    plt.scatter(state[1], state[2])\n",
    "    state, _, _, _ = env.step(nul)\n",
    "    costs += env.cost.sum()\n",
    "print(costs/m)"
   ]
  },
  {
   "cell_type": "raw",
   "metadata": {},
   "source": [
    "np.save(\"mean_states\", mean_states)"
   ]
  },
  {
   "cell_type": "raw",
   "metadata": {},
   "source": [
    "nul=np.zeros(2)\n",
    "costs = 0.\n",
    "mean_states = np.zeros((10, 2))\n",
    "for z in tqdm(range(10000)):\n",
    "    state = env.reset()\n",
    "    for y in range(10):\n",
    "        mean_states[y] += state[1:]\n",
    "        force = main(state, coeffs)\n",
    "        state, _, _, _ = env.step(force)\n",
    "    env.step(nul)\n",
    "    costs += env.cost.sum()\n",
    "mean_states/=10000\n",
    "print(costs/10000)"
   ]
  },
  {
   "cell_type": "raw",
   "metadata": {},
   "source": [
    "coeffs\n",
    "array([1.54466667, 1.66844444, 1.56498611, 1.64543056, 0.08933333,\n",
    "       0.48822222])"
   ]
  },
  {
   "cell_type": "raw",
   "metadata": {},
   "source": [
    "costs / m\n",
    "array([119.26044818, 119.26030105, 119.26017599, 119.26007301,\n",
    "       119.25999211, 119.25993329, 119.25989654, 119.25988187,\n",
    "       119.25988927, 119.25991874])"
   ]
  },
  {
   "cell_type": "raw",
   "metadata": {},
   "source": [
    "np.save(\"c\", coeffs)"
   ]
  }
 ],
 "metadata": {
  "kernelspec": {
   "display_name": "Python 3",
   "language": "python",
   "name": "python3"
  },
  "language_info": {
   "codemirror_mode": {
    "name": "ipython",
    "version": 3
   },
   "file_extension": ".py",
   "mimetype": "text/x-python",
   "name": "python",
   "nbconvert_exporter": "python",
   "pygments_lexer": "ipython3",
   "version": "3.8.5"
  }
 },
 "nbformat": 4,
 "nbformat_minor": 4
}
