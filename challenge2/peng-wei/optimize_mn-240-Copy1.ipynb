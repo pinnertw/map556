{
 "cells": [
  {
   "cell_type": "code",
   "execution_count": 1,
   "metadata": {},
   "outputs": [],
   "source": [
    "from Angrybird import AngryBird\n",
    "import numpy as np\n",
    "import matplotlib.pyplot as plt\n",
    "from tqdm.notebook import tqdm\n",
    "env=AngryBird()"
   ]
  },
  {
   "cell_type": "markdown",
   "metadata": {},
   "source": [
    "# 240 coeffs"
   ]
  },
  {
   "cell_type": "code",
   "execution_count": 2,
   "metadata": {},
   "outputs": [],
   "source": [
    "seconds = np.arange(11)\n",
    "pos = np.zeros((11, 2))\n",
    "pos[:, 0] = seconds * 10\n",
    "pos[:, 1] = seconds * 20 - 2 * seconds**2"
   ]
  },
  {
   "cell_type": "code",
   "execution_count": 3,
   "metadata": {},
   "outputs": [],
   "source": [
    "mean_states = np.load(\"mean_states.npy\")"
   ]
  },
  {
   "cell_type": "code",
   "execution_count": 4,
   "metadata": {},
   "outputs": [],
   "source": [
    "cor = np.array([[0, 0, 0],\n",
    "               [0, 3, 2],\n",
    "               [0, 1, 0]])"
   ]
  },
  {
   "cell_type": "code",
   "execution_count": 5,
   "metadata": {},
   "outputs": [],
   "source": [
    "coeffs = np.load(\"cc.npy\")\n",
    "coeffs2 = np.load(\"cc2.npy\")"
   ]
  },
  {
   "cell_type": "code",
   "execution_count": 6,
   "metadata": {},
   "outputs": [],
   "source": [
    "def main(state, coeffs, coeffs2):\n",
    "    t = int(state[0])\n",
    "    a, b =np.sign(state[1:] - mean_states[t]).astype(int)\n",
    "    i = cor[a][b]\n",
    "    if t < 9:\n",
    "        return coeffs[t, i, :2]*pos[t]-coeffs[t, i, 2:4]*state[1:] + coeffs[t, i, 4:]\n",
    "    else:\n",
    "        return coeffs[t, i, :2]*pos[t]-coeffs[t, i, 2:4]*state[1:] + coeffs[t, i, 4:] + coeffs2*state[1:]**2 * (i < 0.5)"
   ]
  },
  {
   "cell_type": "code",
   "execution_count": 7,
   "metadata": {
    "scrolled": false
   },
   "outputs": [
    {
     "name": "stdout",
     "output_type": "stream",
     "text": [
      "100 1000 0.0001 109.96406380455231 116.72615629645483 8.858468055725098\n",
      "100 1000 0.0001 109.90927579258636 116.75708521627688 8.865796999136608\n",
      "200 1100 5e-05 116.37402174424369 117.78004892695179 17.748656237125395\n",
      "200 1100 5e-05 116.35903473149007 117.78060930224966 17.936009701093038\n",
      "300 1200 2.5e-05 113.39953230066952 116.31563374982831 26.489291604359945\n",
      "300 1200 2.5e-05 113.39411216621471 116.31480960208833 26.525990255673726\n",
      "300 1200 2.5e-05 113.3900504352464 116.30868299524569 26.5227032661438\n",
      "300 1200 2.5e-05 113.38733276823747 116.30579248274454 26.525521687666576\n",
      "300 1200 2.5e-05 113.38475580488344 116.30224463453271 26.528412481149036\n",
      "300 1200 2.5e-05 113.38092426840548 116.30441528186785 26.53862011830012\n",
      "400 1300 1.25e-05 121.05759872328294 115.30790725296191 35.35630201101303\n",
      "400 1300 1.25e-05 121.0559816514312 115.30503547665157 35.367327551047005\n",
      "400 1300 1.25e-05 121.05442983891834 115.30275616196386 35.37208218971888\n",
      "400 1300 1.25e-05 121.05295483701462 115.3002672614608 35.31284984350204\n",
      "400 1300 1.25e-05 121.05152064927391 115.29826392280545 35.51462736527125\n",
      "400 1300 1.25e-05 121.0500926937067 115.29632175421452 35.38307447036107\n",
      "400 1300 1.25e-05 121.04788739936298 115.29515608234591 35.36372406482697\n"
     ]
    },
    {
     "ename": "KeyboardInterrupt",
     "evalue": "",
     "output_type": "error",
     "traceback": [
      "\u001b[0;31m---------------------------------------------------------------------------\u001b[0m",
      "\u001b[0;31mKeyboardInterrupt\u001b[0m                         Traceback (most recent call last)",
      "\u001b[0;32m<ipython-input-7-14acda2ad634>\u001b[0m in \u001b[0;36m<module>\u001b[0;34m\u001b[0m\n\u001b[1;32m     20\u001b[0m                         \u001b[0;32mfor\u001b[0m \u001b[0m_\u001b[0m \u001b[0;32min\u001b[0m \u001b[0mrange\u001b[0m\u001b[0;34m(\u001b[0m\u001b[0;36m10\u001b[0m\u001b[0;34m)\u001b[0m\u001b[0;34m:\u001b[0m\u001b[0;34m\u001b[0m\u001b[0;34m\u001b[0m\u001b[0m\n\u001b[1;32m     21\u001b[0m                             \u001b[0mforce\u001b[0m \u001b[0;34m=\u001b[0m \u001b[0mmain\u001b[0m\u001b[0;34m(\u001b[0m\u001b[0mstate\u001b[0m\u001b[0;34m,\u001b[0m \u001b[0mcoeffs\u001b[0m\u001b[0;34m,\u001b[0m \u001b[0mcoeffs2\u001b[0m\u001b[0;34m)\u001b[0m\u001b[0;34m\u001b[0m\u001b[0;34m\u001b[0m\u001b[0m\n\u001b[0;32m---> 22\u001b[0;31m                             \u001b[0mstate\u001b[0m\u001b[0;34m,\u001b[0m \u001b[0m_\u001b[0m\u001b[0;34m,\u001b[0m \u001b[0m_\u001b[0m\u001b[0;34m,\u001b[0m \u001b[0m_\u001b[0m \u001b[0;34m=\u001b[0m \u001b[0menv\u001b[0m\u001b[0;34m.\u001b[0m\u001b[0mstep\u001b[0m\u001b[0;34m(\u001b[0m\u001b[0mforce\u001b[0m\u001b[0;34m)\u001b[0m\u001b[0;34m\u001b[0m\u001b[0;34m\u001b[0m\u001b[0m\n\u001b[0m\u001b[1;32m     23\u001b[0m                         \u001b[0menv\u001b[0m\u001b[0;34m.\u001b[0m\u001b[0mstep\u001b[0m\u001b[0;34m(\u001b[0m\u001b[0mnul\u001b[0m\u001b[0;34m)\u001b[0m\u001b[0;34m\u001b[0m\u001b[0;34m\u001b[0m\u001b[0m\n\u001b[1;32m     24\u001b[0m                         \u001b[0mcosts\u001b[0m\u001b[0;34m[\u001b[0m\u001b[0mj\u001b[0m\u001b[0;34m]\u001b[0m \u001b[0;34m+=\u001b[0m \u001b[0menv\u001b[0m\u001b[0;34m.\u001b[0m\u001b[0mcost\u001b[0m\u001b[0;34m.\u001b[0m\u001b[0msum\u001b[0m\u001b[0;34m(\u001b[0m\u001b[0;34m)\u001b[0m\u001b[0;34m\u001b[0m\u001b[0;34m\u001b[0m\u001b[0m\n",
      "\u001b[0;32m~/map556/challenge2/peng-wei/Angrybird.py\u001b[0m in \u001b[0;36mstep\u001b[0;34m(self, action, v_action)\u001b[0m\n\u001b[1;32m     69\u001b[0m             \u001b[0mself\u001b[0m\u001b[0;34m.\u001b[0m\u001b[0mX\u001b[0m\u001b[0;34m[\u001b[0m\u001b[0;36m1\u001b[0m\u001b[0;34m:\u001b[0m\u001b[0;34m]\u001b[0m \u001b[0;34m=\u001b[0m \u001b[0mself\u001b[0m\u001b[0;34m.\u001b[0m\u001b[0mdynamique_pos\u001b[0m\u001b[0;34m(\u001b[0m\u001b[0maction\u001b[0m\u001b[0;34m)\u001b[0m\u001b[0;34m\u001b[0m\u001b[0;34m\u001b[0m\u001b[0m\n\u001b[1;32m     70\u001b[0m             \u001b[0mself\u001b[0m\u001b[0;34m.\u001b[0m\u001b[0mtrajectoire\u001b[0m\u001b[0;34m.\u001b[0m\u001b[0mappend\u001b[0m\u001b[0;34m(\u001b[0m\u001b[0mnp\u001b[0m\u001b[0;34m.\u001b[0m\u001b[0mcopy\u001b[0m\u001b[0;34m(\u001b[0m\u001b[0mself\u001b[0m\u001b[0;34m.\u001b[0m\u001b[0mX\u001b[0m\u001b[0;34m)\u001b[0m\u001b[0;34m)\u001b[0m\u001b[0;34m\u001b[0m\u001b[0;34m\u001b[0m\u001b[0m\n\u001b[0;32m---> 71\u001b[0;31m             \u001b[0mself\u001b[0m\u001b[0;34m.\u001b[0m\u001b[0mX_bar\u001b[0m \u001b[0;34m=\u001b[0m \u001b[0;34m(\u001b[0m\u001b[0;36m1\u001b[0m \u001b[0;34m-\u001b[0m \u001b[0mself\u001b[0m\u001b[0;34m.\u001b[0m\u001b[0mlamb\u001b[0m \u001b[0;34m*\u001b[0m \u001b[0mself\u001b[0m\u001b[0;34m.\u001b[0m\u001b[0mDelta_T\u001b[0m\u001b[0;34m)\u001b[0m \u001b[0;34m*\u001b[0m \u001b[0mself\u001b[0m\u001b[0;34m.\u001b[0m\u001b[0mX_bar\u001b[0m \u001b[0;34m+\u001b[0m \u001b[0mv_action\u001b[0m \u001b[0;34m*\u001b[0m \u001b[0mself\u001b[0m\u001b[0;34m.\u001b[0m\u001b[0mDelta_T\u001b[0m\u001b[0;34m\u001b[0m\u001b[0;34m\u001b[0m\u001b[0m\n\u001b[0m\u001b[1;32m     72\u001b[0m             \u001b[0mself\u001b[0m\u001b[0;34m.\u001b[0m\u001b[0mdiscrete_t\u001b[0m \u001b[0;34m+=\u001b[0m \u001b[0;36m1\u001b[0m\u001b[0;34m\u001b[0m\u001b[0;34m\u001b[0m\u001b[0m\n\u001b[1;32m     73\u001b[0m         \u001b[0mself\u001b[0m\u001b[0;34m.\u001b[0m\u001b[0mtrajectoire\u001b[0m\u001b[0;34m[\u001b[0m\u001b[0;34m-\u001b[0m\u001b[0;36m1\u001b[0m\u001b[0;34m]\u001b[0m\u001b[0;34m[\u001b[0m\u001b[0;36m0\u001b[0m\u001b[0;34m]\u001b[0m \u001b[0;34m+=\u001b[0m \u001b[0;36m1\u001b[0m\u001b[0;34m\u001b[0m\u001b[0;34m\u001b[0m\u001b[0m\n",
      "\u001b[0;31mKeyboardInterrupt\u001b[0m: "
     ]
    }
   ],
   "source": [
    "from time import time\n",
    "nul=np.zeros(2)\n",
    "m = 100\n",
    "n = 1000\n",
    "vents = np.load(\"vents.npy\")\n",
    "ecart = 0.0001\n",
    "cos_min = 400.\n",
    "while cos_min > 100:\n",
    "    t = -time()\n",
    "    for i in range(10):\n",
    "        for l in range(4):\n",
    "            for k in range(6):\n",
    "                coeff_change = np.linspace(coeffs[i][l][k]-ecart, coeffs[i][l][k]+ecart, 9)\n",
    "                costs = np.zeros(9)\n",
    "                for j in range(9):\n",
    "                    coeffs[i][l][k] = coeff_change[j]\n",
    "                    for z in range(m):\n",
    "                        state = env.reset()\n",
    "                        env.vent = vents[z]\n",
    "                        for _ in range(10):\n",
    "                            force = main(state, coeffs, coeffs2)\n",
    "                            state, _, _, _ = env.step(force)\n",
    "                        env.step(nul)\n",
    "                        costs[j] += env.cost.sum()\n",
    "                coeffs[i][l][k] = coeff_change[np.argmin(costs)]\n",
    "    for k in range(2):\n",
    "        coeff_change = np.linspace(coeffs2[k]-ecart, coeffs2[k]+ecart, 9)\n",
    "        costs = np.zeros(9)\n",
    "        for j in range(9):\n",
    "            coeffs2[k] = coeff_change[j]\n",
    "            for z in range(m):\n",
    "                state = env.reset()\n",
    "                env.vent = vents[z]\n",
    "                for _ in range(10):\n",
    "                    force = main(state, coeffs, coeffs2)\n",
    "                    state, _, _, _ = env.step(force)\n",
    "                env.step(nul)\n",
    "                costs[j] += env.cost.sum()\n",
    "        coeffs2[k] = coeff_change[np.argmin(costs)]\n",
    "\n",
    "    cos = 0.\n",
    "    for z in range(n):\n",
    "        state = env.reset(False)\n",
    "        env.vent = vents[z]\n",
    "        for _ in range(10):\n",
    "            force = main(state, coeffs, coeffs2)\n",
    "            state, _, _, _ = env.step(force)\n",
    "        env.step(nul)\n",
    "        cos += env.cost.sum()\n",
    "    cos /= n\n",
    "    t += time()\n",
    "    print(m, n, ecart, costs.min()/m, cos, t/60)\n",
    "    if cos < cos_min:\n",
    "        cos_min = cos\n",
    "        np.save(\"ccc\", coeffs)\n",
    "        np.save(\"ccc2\", coeffs2)\n",
    "    else:\n",
    "        cos_min = cos + 20\n",
    "        m += 100\n",
    "        n += 100\n",
    "        ecart /= 2"
   ]
  },
  {
   "cell_type": "code",
   "execution_count": 44,
   "metadata": {},
   "outputs": [],
   "source": [
    "n = 10000\n",
    "cos = 0.\n",
    "X = []\n",
    "Y = []\n",
    "for z in range(n):\n",
    "    state = env.reset(False)\n",
    "    env.vent = vents[z]\n",
    "    for y in range(9):\n",
    "        force = main(state, coeffs, coeffs2)\n",
    "        state, _, _, _ = env.step(force)\n",
    "    force = main(state, coeffs, coeffs2)\n",
    "    X.append(np.copy(state[1:]))\n",
    "    state, _, _, _ = env.step(force)\n",
    "    Y.append(-state[1:])\n",
    "X = np.array(X)\n",
    "Y = np.array(Y)"
   ]
  }
 ],
 "metadata": {
  "kernelspec": {
   "display_name": "Python 3",
   "language": "python",
   "name": "python3"
  },
  "language_info": {
   "codemirror_mode": {
    "name": "ipython",
    "version": 3
   },
   "file_extension": ".py",
   "mimetype": "text/x-python",
   "name": "python",
   "nbconvert_exporter": "python",
   "pygments_lexer": "ipython3",
   "version": "3.8.5"
  }
 },
 "nbformat": 4,
 "nbformat_minor": 4
}
