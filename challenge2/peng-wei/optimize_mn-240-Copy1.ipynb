{
 "cells": [
  {
   "cell_type": "code",
   "execution_count": 21,
   "metadata": {},
   "outputs": [],
   "source": [
    "from Angrybird import AngryBird\n",
    "import numpy as np\n",
    "import matplotlib.pyplot as plt\n",
    "from tqdm.notebook import tqdm\n",
    "env=AngryBird()"
   ]
  },
  {
   "cell_type": "markdown",
   "metadata": {},
   "source": [
    "# 240 coeffs"
   ]
  },
  {
   "cell_type": "code",
   "execution_count": 22,
   "metadata": {},
   "outputs": [],
   "source": [
    "seconds = np.arange(11)\n",
    "pos = np.zeros((11, 2))\n",
    "pos[:, 0] = seconds * 10\n",
    "pos[:, 1] = seconds * 20 - 2 * seconds**2"
   ]
  },
  {
   "cell_type": "code",
   "execution_count": 23,
   "metadata": {},
   "outputs": [],
   "source": [
    "mean_states = np.load(\"mean_states.npy\")"
   ]
  },
  {
   "cell_type": "code",
   "execution_count": 24,
   "metadata": {},
   "outputs": [],
   "source": [
    "cor = np.array([[0, 0, 0],\n",
    "               [0, 3, 2],\n",
    "               [0, 1, 0]])"
   ]
  },
  {
   "cell_type": "code",
   "execution_count": 27,
   "metadata": {},
   "outputs": [],
   "source": [
    "coeffs = np.load(\"cc.npy\")\n",
    "coeffs2 = np.load(\"cc2.npy\")"
   ]
  },
  {
   "cell_type": "code",
   "execution_count": 28,
   "metadata": {},
   "outputs": [],
   "source": [
    "def main(state, coeffs, coeffs2):\n",
    "    t = int(state[0])\n",
    "    a, b =np.sign(state[1:] - mean_states[t]).astype(int)\n",
    "    i = cor[a][b]\n",
    "    if t < 9:\n",
    "        return coeffs[t, i, :2]*pos[t]-coeffs[t, i, 2:4]*state[1:] + coeffs[t, i, 4:]\n",
    "    else:\n",
    "        return coeffs[t, i, :2]*pos[t]-coeffs[t, i, 2:4]*state[1:] + coeffs[t, i, 4:] + coeffs2*state[1:]**2 * (i < 0.5)"
   ]
  },
  {
   "cell_type": "code",
   "execution_count": 16,
   "metadata": {
    "scrolled": false
   },
   "outputs": [
    {
     "name": "stdout",
     "output_type": "stream",
     "text": [
      "100 200 0.0001 109.99319921025433 116.31893628115569 0.0789316217104594\n",
      "100 200 0.0001 109.99319921025433 116.31893628115569 0.07893474499384562\n",
      "200 300 5e-05 116.3186529468785 113.33214761268687 0.15360819101333617\n",
      "200 300 5e-05 116.318449636093 113.33211124464374 0.15436457395553588\n",
      "200 300 5e-05 116.31832634879933 113.33213495376724 0.15469741423924763\n",
      "300 400 2.5e-05 113.33211558955969 121.01998579642166 0.23109429677327473\n",
      "300 400 2.5e-05 113.33211092281417 121.0199930965694 0.2296617309252421\n",
      "400 500 1.25e-05 121.01998736244313 117.13749113131611 0.3049569845199585\n",
      "400 500 1.25e-05 121.01998509776138 117.13746423354954 0.30423769156138103\n",
      "400 500 1.25e-05 121.01998507369164 117.13745801839585 0.30494961738586424\n",
      "400 500 1.25e-05 121.01998507369164 117.13745801839585 0.3038249731063843\n",
      "500 600 6.25e-06 117.13728988019442 120.25712081050901 0.3797134757041931\n",
      "500 600 6.25e-06 117.13727976609506 120.2571094418784 0.3792426387468974\n",
      "500 600 6.25e-06 117.13727046685649 120.25709888456976 0.37950663566589354\n",
      "500 600 6.25e-06 117.13726198247866 120.25708913858305 0.38015244801839193\n",
      "500 600 6.25e-06 117.13725431296157 120.25708020391833 0.3789682586987813\n",
      "500 600 6.25e-06 117.13724745830532 120.25707208057563 0.37863951524098716\n",
      "500 600 6.25e-06 117.13724141850982 120.2570647685549 0.37875093619028727\n",
      "500 600 6.25e-06 117.13723619357505 120.25705826785607 0.3790178378423055\n",
      "500 600 6.25e-06 117.13723178350106 120.25705257847929 0.379132870833079\n",
      "500 600 6.25e-06 117.13722818828788 120.2570477004245 0.37926055590311686\n",
      "500 600 6.25e-06 117.13722540793539 120.25704363369165 0.379725178082784\n",
      "500 600 6.25e-06 117.13722344244371 120.2570403782808 0.3796044627825419\n",
      "500 600 6.25e-06 117.13722229181278 120.2570379341919 0.3791857441266378\n",
      "500 600 6.25e-06 117.13722195604265 120.25703630142503 0.37967828909556073\n",
      "500 600 6.25e-06 117.13722195604265 120.25703630142503 0.37914061546325684\n",
      "600 700 3.125e-06 120.25701429609013 117.73202712150494 0.4540705680847168\n",
      "600 700 3.125e-06 120.25701380004728 117.73200945258439 0.4541331132253011\n",
      "600 700 3.125e-06 120.25701350683494 117.73199198934805 0.4557810306549072\n",
      "600 700 3.125e-06 120.25701341645308 117.73197473179586 0.4550394574801127\n",
      "600 700 3.125e-06 120.25701338944059 117.73207570337655 0.4542284607887268\n",
      "700 800 1.5625e-06 117.731855696184 117.60828537366793 0.5290887951850891\n",
      "700 800 1.5625e-06 117.73166589833784 117.60812611888007 0.5292838414510092\n",
      "700 800 1.5625e-06 117.73150630983798 117.60799915658019 0.5298476696014405\n",
      "700 800 1.5625e-06 117.73137693068448 117.6079044867683 0.5287215312321981\n",
      "700 800 1.5625e-06 117.73127776087732 117.60784210944446 0.5291131536165873\n",
      "700 800 1.5625e-06 117.7312088004165 117.6078120246086 0.52857346534729\n",
      "700 800 1.5625e-06 117.73117004930208 117.60781423226086 0.5292566219965616\n",
      "800 900 7.8125e-07 117.607802394739 116.38714737696698 0.6042755881945292\n",
      "800 900 7.8125e-07 117.60779778093398 116.38713808593849 0.6044853528340658\n",
      "800 900 7.8125e-07 117.60779444954758 116.38713680636998 0.6045894145965576\n",
      "800 900 7.8125e-07 117.6077911319155 116.38713554033623 0.6044254382451375\n",
      "800 900 7.8125e-07 117.60778782803763 116.3871342878372 0.6047126809755962\n",
      "800 900 7.8125e-07 117.60778453791404 116.38713304887291 0.6039639314015707\n",
      "800 900 7.8125e-07 117.6077812615447 116.38713182344337 0.6042335430781046\n",
      "800 900 7.8125e-07 117.60777799892959 116.38713061154856 0.6038041869799297\n",
      "800 900 7.8125e-07 117.60777475006871 116.38712941318842 0.6044623335202535\n",
      "800 900 7.8125e-07 117.6077715149621 116.38712822836307 0.6043594717979431\n",
      "800 900 7.8125e-07 117.60776829360975 116.38712705707245 0.6046562353769939\n",
      "800 900 7.8125e-07 117.60776508601164 116.38712589931654 0.6052788416544597\n",
      "800 900 7.8125e-07 117.6077618921678 116.38712475509541 0.6039501825968424\n",
      "800 900 7.8125e-07 117.60775871207815 116.38712362440896 0.6044244170188904\n",
      "800 900 7.8125e-07 117.60775554574282 116.38712250725729 0.610629693667094\n",
      "800 900 7.8125e-07 117.6077523789089 116.3871180123838 0.612194550037384\n",
      "800 900 7.8125e-07 117.60774923147972 116.38711691347015 0.6106796463330587\n",
      "800 900 7.8125e-07 117.60774609780486 116.38711582809134 0.6103348890940349\n",
      "800 900 7.8125e-07 117.60774297788421 116.3871147562472 0.6109302997589111\n",
      "800 900 7.8125e-07 117.60773987171777 116.38711369793775 0.6064117471377055\n",
      "800 900 7.8125e-07 117.60773677930561 116.38711265316309 0.6081333835919698\n",
      "800 900 7.8125e-07 117.60773370064776 116.38711162192318 0.6055090228716532\n",
      "800 900 7.8125e-07 117.60773063574405 116.38711060421792 0.6065283377965291\n",
      "800 900 7.8125e-07 117.60772758459466 116.38710960004747 0.6081315080324808\n",
      "800 900 7.8125e-07 117.60772454719951 116.38710860941173 0.6102078636487325\n"
     ]
    },
    {
     "ename": "KeyboardInterrupt",
     "evalue": "",
     "output_type": "error",
     "traceback": [
      "\u001b[0;31m---------------------------------------------------------------------------\u001b[0m",
      "\u001b[0;31mKeyboardInterrupt\u001b[0m                         Traceback (most recent call last)",
      "\u001b[0;32m<ipython-input-16-6bbca2cbe15c>\u001b[0m in \u001b[0;36m<module>\u001b[0;34m\u001b[0m\n\u001b[1;32m     36\u001b[0m                 \u001b[0;32mfor\u001b[0m \u001b[0m_\u001b[0m \u001b[0;32min\u001b[0m \u001b[0mrange\u001b[0m\u001b[0;34m(\u001b[0m\u001b[0;36m10\u001b[0m\u001b[0;34m)\u001b[0m\u001b[0;34m:\u001b[0m\u001b[0;34m\u001b[0m\u001b[0;34m\u001b[0m\u001b[0m\n\u001b[1;32m     37\u001b[0m                     \u001b[0mforce\u001b[0m \u001b[0;34m=\u001b[0m \u001b[0mmain\u001b[0m\u001b[0;34m(\u001b[0m\u001b[0mstate\u001b[0m\u001b[0;34m,\u001b[0m \u001b[0mcoeffs\u001b[0m\u001b[0;34m,\u001b[0m \u001b[0mcoeffs2\u001b[0m\u001b[0;34m)\u001b[0m\u001b[0;34m\u001b[0m\u001b[0;34m\u001b[0m\u001b[0m\n\u001b[0;32m---> 38\u001b[0;31m                     \u001b[0mstate\u001b[0m\u001b[0;34m,\u001b[0m \u001b[0m_\u001b[0m\u001b[0;34m,\u001b[0m \u001b[0m_\u001b[0m\u001b[0;34m,\u001b[0m \u001b[0m_\u001b[0m \u001b[0;34m=\u001b[0m \u001b[0menv\u001b[0m\u001b[0;34m.\u001b[0m\u001b[0mstep\u001b[0m\u001b[0;34m(\u001b[0m\u001b[0mforce\u001b[0m\u001b[0;34m)\u001b[0m\u001b[0;34m\u001b[0m\u001b[0;34m\u001b[0m\u001b[0m\n\u001b[0m\u001b[1;32m     39\u001b[0m                 \u001b[0menv\u001b[0m\u001b[0;34m.\u001b[0m\u001b[0mstep\u001b[0m\u001b[0;34m(\u001b[0m\u001b[0mnul\u001b[0m\u001b[0;34m)\u001b[0m\u001b[0;34m\u001b[0m\u001b[0;34m\u001b[0m\u001b[0m\n\u001b[1;32m     40\u001b[0m                 \u001b[0mcosts\u001b[0m\u001b[0;34m[\u001b[0m\u001b[0mj\u001b[0m\u001b[0;34m]\u001b[0m \u001b[0;34m+=\u001b[0m \u001b[0menv\u001b[0m\u001b[0;34m.\u001b[0m\u001b[0mcost\u001b[0m\u001b[0;34m.\u001b[0m\u001b[0msum\u001b[0m\u001b[0;34m(\u001b[0m\u001b[0;34m)\u001b[0m\u001b[0;34m\u001b[0m\u001b[0;34m\u001b[0m\u001b[0m\n",
      "\u001b[0;32m~/map556/challenge2/peng-wei/Angrybird.py\u001b[0m in \u001b[0;36mstep\u001b[0;34m(self, action, v_action)\u001b[0m\n\u001b[1;32m     67\u001b[0m             \u001b[0;32mreturn\u001b[0m \u001b[0mself\u001b[0m\u001b[0;34m.\u001b[0m\u001b[0mX\u001b[0m\u001b[0;34m,\u001b[0m \u001b[0mself\u001b[0m\u001b[0;34m.\u001b[0m\u001b[0mcost\u001b[0m\u001b[0;34m[\u001b[0m\u001b[0;36m10\u001b[0m\u001b[0;34m]\u001b[0m\u001b[0;34m,\u001b[0m \u001b[0;32mTrue\u001b[0m\u001b[0;34m,\u001b[0m \u001b[0;32mNone\u001b[0m\u001b[0;34m\u001b[0m\u001b[0;34m\u001b[0m\u001b[0m\n\u001b[1;32m     68\u001b[0m         \u001b[0;32mfor\u001b[0m \u001b[0mj\u001b[0m \u001b[0;32min\u001b[0m \u001b[0mrange\u001b[0m\u001b[0;34m(\u001b[0m\u001b[0;36m10\u001b[0m\u001b[0;34m)\u001b[0m\u001b[0;34m:\u001b[0m\u001b[0;34m\u001b[0m\u001b[0;34m\u001b[0m\u001b[0m\n\u001b[0;32m---> 69\u001b[0;31m             \u001b[0mself\u001b[0m\u001b[0;34m.\u001b[0m\u001b[0mX\u001b[0m\u001b[0;34m[\u001b[0m\u001b[0;36m1\u001b[0m\u001b[0;34m:\u001b[0m\u001b[0;34m]\u001b[0m \u001b[0;34m=\u001b[0m \u001b[0mself\u001b[0m\u001b[0;34m.\u001b[0m\u001b[0mdynamique_pos\u001b[0m\u001b[0;34m(\u001b[0m\u001b[0maction\u001b[0m\u001b[0;34m)\u001b[0m\u001b[0;34m\u001b[0m\u001b[0;34m\u001b[0m\u001b[0m\n\u001b[0m\u001b[1;32m     70\u001b[0m             \u001b[0mself\u001b[0m\u001b[0;34m.\u001b[0m\u001b[0mtrajectoire\u001b[0m\u001b[0;34m.\u001b[0m\u001b[0mappend\u001b[0m\u001b[0;34m(\u001b[0m\u001b[0mnp\u001b[0m\u001b[0;34m.\u001b[0m\u001b[0mcopy\u001b[0m\u001b[0;34m(\u001b[0m\u001b[0mself\u001b[0m\u001b[0;34m.\u001b[0m\u001b[0mX\u001b[0m\u001b[0;34m)\u001b[0m\u001b[0;34m)\u001b[0m\u001b[0;34m\u001b[0m\u001b[0;34m\u001b[0m\u001b[0m\n\u001b[1;32m     71\u001b[0m             \u001b[0mself\u001b[0m\u001b[0;34m.\u001b[0m\u001b[0mX_bar\u001b[0m \u001b[0;34m=\u001b[0m \u001b[0;34m(\u001b[0m\u001b[0;36m1\u001b[0m \u001b[0;34m-\u001b[0m \u001b[0mself\u001b[0m\u001b[0;34m.\u001b[0m\u001b[0mlamb\u001b[0m \u001b[0;34m*\u001b[0m \u001b[0mself\u001b[0m\u001b[0;34m.\u001b[0m\u001b[0mDelta_T\u001b[0m\u001b[0;34m)\u001b[0m \u001b[0;34m*\u001b[0m \u001b[0mself\u001b[0m\u001b[0;34m.\u001b[0m\u001b[0mX_bar\u001b[0m \u001b[0;34m+\u001b[0m \u001b[0mv_action\u001b[0m \u001b[0;34m*\u001b[0m \u001b[0mself\u001b[0m\u001b[0;34m.\u001b[0m\u001b[0mDelta_T\u001b[0m\u001b[0;34m\u001b[0m\u001b[0;34m\u001b[0m\u001b[0m\n",
      "\u001b[0;31mKeyboardInterrupt\u001b[0m: "
     ]
    }
   ],
   "source": [
    "from time import time\n",
    "nul=np.zeros(2)\n",
    "m = 100\n",
    "n = 200\n",
    "vents = np.load(\"vents.npy\")\n",
    "ecart = 0.0001\n",
    "cos_min = 400.\n",
    "while cos_min > 100:\n",
    "    t = -time()\n",
    "    '''\n",
    "    for i in range(10):\n",
    "        for l in range(4):\n",
    "            for k in range(6):\n",
    "                coeff_change = np.linspace(coeffs[i][l][k]-ecart, coeffs[i][l][k]+ecart, 9)\n",
    "                costs = np.zeros(9)\n",
    "                for j in range(9):\n",
    "                    coeffs[i][l][k] = coeff_change[j]\n",
    "                    for z in range(m):\n",
    "                        state = env.reset()\n",
    "                        env.vent = vents[z]\n",
    "                        for _ in range(10):\n",
    "                            force = main(state, coeffs, coeffs2)\n",
    "                            state, _, _, _ = env.step(force)\n",
    "                        env.step(nul)\n",
    "                        costs[j] += env.cost.sum()\n",
    "                coeffs[i][l][k] = coeff_change[np.argmin(costs)]\n",
    "    '''\n",
    "    for k in range(2):\n",
    "        coeff_change = np.linspace(coeffs2[k]-ecart, coeffs2[k]+ecart, 9)\n",
    "        costs = np.zeros(9)\n",
    "        for j in range(9):\n",
    "            coeffs2[k] = coeff_change[j]\n",
    "            for z in range(m):\n",
    "                state = env.reset()\n",
    "                env.vent = vents[z]\n",
    "                for _ in range(10):\n",
    "                    force = main(state, coeffs, coeffs2)\n",
    "                    state, _, _, _ = env.step(force)\n",
    "                env.step(nul)\n",
    "                costs[j] += env.cost.sum()\n",
    "        coeffs2[k] = coeff_change[np.argmin(costs)]\n",
    "\n",
    "    cos = 0.\n",
    "    for z in range(n):\n",
    "        state = env.reset(False)\n",
    "        env.vent = vents[z]\n",
    "        for _ in range(10):\n",
    "            force = main(state, coeffs, coeffs2)\n",
    "            state, _, _, _ = env.step(force)\n",
    "        env.step(nul)\n",
    "        cos += env.cost.sum()\n",
    "    cos /= n\n",
    "    t += time()\n",
    "    print(m, n, ecart, costs.min()/m, cos, t/60)\n",
    "    if cos < cos_min:\n",
    "        cos_min = cos\n",
    "        np.save(\"cc\", coeffs)\n",
    "        np.save(\"cc2\", coeffs2)\n",
    "    else:\n",
    "        cos_min = cos + 20\n",
    "        m += 100\n",
    "        n += 100\n",
    "        ecart /= 2"
   ]
  },
  {
   "cell_type": "code",
   "execution_count": 44,
   "metadata": {},
   "outputs": [],
   "source": [
    "n = 10000\n",
    "cos = 0.\n",
    "X = []\n",
    "Y = []\n",
    "for z in range(n):\n",
    "    state = env.reset(False)\n",
    "    env.vent = vents[z]\n",
    "    for y in range(9):\n",
    "        force = main(state, coeffs, coeffs2)\n",
    "        state, _, _, _ = env.step(force)\n",
    "    force = main(state, coeffs, coeffs2)\n",
    "    X.append(np.copy(state[1:]))\n",
    "    state, _, _, _ = env.step(force)\n",
    "    Y.append(-state[1:])\n",
    "X = np.array(X)\n",
    "Y = np.array(Y)"
   ]
  },
  {
   "cell_type": "code",
   "execution_count": 52,
   "metadata": {},
   "outputs": [],
   "source": [
    "import tensorflow as tf\n",
    "class Model(tf.keras.Model):\n",
    "    def __init__(self):\n",
    "        super(Model, self).__init__()\n",
    "        self.model = tf.keras.Sequential()\n",
    "        self.model.add(tf.keras.layers.Dense(10, input_shape=(2,)))\n",
    "        self.model.add(tf.keras.layers.Dense(10))\n",
    "        self.model.add(tf.keras.layers.Dense(2))\n",
    "        self.model.compile(optimizer='adam', loss='mse')\n",
    "    def fit(self, X, Y):\n",
    "        es = tf.keras.callbacks.EarlyStopping(monitor='loss', mode='min', verbose=1, patience=10)\n",
    "        self.model.fit(X, Y, batch_size=32, epochs=200, verbose=1, callbacks=[es])\n",
    "    def predict(self, x):\n",
    "        return self.model.predict(x.reshape(1, 2))\n",
    "    def save(self):\n",
    "        self.save_weights(\"model\")"
   ]
  },
  {
   "cell_type": "code",
   "execution_count": 53,
   "metadata": {},
   "outputs": [],
   "source": [
    "model = Model()"
   ]
  },
  {
   "cell_type": "code",
   "execution_count": 54,
   "metadata": {},
   "outputs": [
    {
     "name": "stdout",
     "output_type": "stream",
     "text": [
      "Epoch 1/200\n",
      "313/313 [==============================] - 1s 3ms/step - loss: 63.2275\n",
      "Epoch 2/200\n",
      "313/313 [==============================] - 1s 3ms/step - loss: 3.6408\n",
      "Epoch 3/200\n",
      "313/313 [==============================] - 1s 3ms/step - loss: 2.4174\n",
      "Epoch 4/200\n",
      "313/313 [==============================] - 1s 3ms/step - loss: 1.3836\n",
      "Epoch 5/200\n",
      "313/313 [==============================] - 1s 3ms/step - loss: 0.8485\n",
      "Epoch 6/200\n",
      "313/313 [==============================] - 1s 3ms/step - loss: 0.6920\n",
      "Epoch 7/200\n",
      "313/313 [==============================] - 1s 3ms/step - loss: 0.6698\n",
      "Epoch 8/200\n",
      "313/313 [==============================] - 1s 3ms/step - loss: 0.6695\n",
      "Epoch 9/200\n",
      "313/313 [==============================] - 1s 3ms/step - loss: 0.6738\n",
      "Epoch 10/200\n",
      "313/313 [==============================] - 1s 3ms/step - loss: 0.6719\n",
      "Epoch 11/200\n",
      "313/313 [==============================] - 1s 3ms/step - loss: 0.6735\n",
      "Epoch 12/200\n",
      "313/313 [==============================] - 1s 3ms/step - loss: 0.6828\n",
      "Epoch 13/200\n",
      "313/313 [==============================] - 1s 3ms/step - loss: 0.6748\n",
      "Epoch 14/200\n",
      "313/313 [==============================] - 1s 3ms/step - loss: 0.6796\n",
      "Epoch 15/200\n",
      "313/313 [==============================] - 1s 3ms/step - loss: 0.6780\n",
      "Epoch 16/200\n",
      "313/313 [==============================] - 1s 3ms/step - loss: 0.6882\n",
      "Epoch 17/200\n",
      "313/313 [==============================] - 1s 3ms/step - loss: 0.6920\n",
      "Epoch 18/200\n",
      "313/313 [==============================] - 1s 3ms/step - loss: 0.6891\n",
      "Epoch 00018: early stopping\n"
     ]
    }
   ],
   "source": [
    "model.fit(X, Y)"
   ]
  },
  {
   "cell_type": "code",
   "execution_count": 55,
   "metadata": {},
   "outputs": [],
   "source": [
    "model.save()"
   ]
  }
 ],
 "metadata": {
  "kernelspec": {
   "display_name": "Python 3",
   "language": "python",
   "name": "python3"
  },
  "language_info": {
   "codemirror_mode": {
    "name": "ipython",
    "version": 3
   },
   "file_extension": ".py",
   "mimetype": "text/x-python",
   "name": "python",
   "nbconvert_exporter": "python",
   "pygments_lexer": "ipython3",
   "version": "3.8.5"
  }
 },
 "nbformat": 4,
 "nbformat_minor": 4
}
