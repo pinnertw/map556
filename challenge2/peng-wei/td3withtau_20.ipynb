{
 "cells": [
  {
   "cell_type": "code",
   "execution_count": 1,
   "metadata": {
    "colab": {
     "base_uri": "https://localhost:8080/",
     "height": 1000
    },
    "id": "iffzAWwBELNL",
    "outputId": "07816cb3-31f4-4ed0-8817-09e8c7b8bd5e"
   },
   "outputs": [
    {
     "name": "stdout",
     "output_type": "stream",
     "text": [
      "[PhysicalDevice(name='/physical_device:GPU:0', device_type='GPU')]\n"
     ]
    }
   ],
   "source": [
    "import tensorflow as tf\n",
    "import matplotlib.pyplot as plt\n",
    "import numpy as np\n",
    "from tensorflow.keras.models import load_model\n",
    "\n",
    "print(tf.config.list_physical_devices('GPU'))"
   ]
  },
  {
   "cell_type": "code",
   "execution_count": 2,
   "metadata": {
    "colab": {
     "base_uri": "https://localhost:8080/",
     "height": 1000
    },
    "id": "iffzAWwBELNL",
    "outputId": "07816cb3-31f4-4ed0-8817-09e8c7b8bd5e"
   },
   "outputs": [],
   "source": [
    "class RBuffer():\n",
    "    def __init__(self, maxsize, statedim, naction):\n",
    "        self.cnt = 0\n",
    "        self.maxsize = maxsize\n",
    "        self.state_memory = np.zeros((maxsize, *statedim), dtype=np.float32)\n",
    "        self.action_memory = np.zeros((maxsize, naction), dtype=np.float32)\n",
    "        self.reward_memory = np.zeros((maxsize,), dtype=np.float32)\n",
    "        self.next_state_memory = np.zeros((maxsize, *statedim), dtype=np.float32)\n",
    "        self.done_memory = np.zeros((maxsize,), dtype= np.bool)\n",
    "\n",
    "    def storexp(self, state, next_state, action, done, reward):\n",
    "        index = self.cnt % self.maxsize\n",
    "        self.state_memory[index] = state\n",
    "        self.action_memory[index] = action\n",
    "        self.reward_memory[index] = reward\n",
    "        self.next_state_memory[index] = next_state\n",
    "        self.done_memory[index] = 1- int(done)\n",
    "        self.cnt += 1\n",
    "\n",
    "    def sample(self, batch_size):\n",
    "        max_mem = min(self.cnt, self.maxsize)\n",
    "        batch = np.random.choice(max_mem, batch_size, replace= False)\n",
    "        states = self.state_memory[batch]\n",
    "        next_states = self.next_state_memory[batch]\n",
    "        rewards = self.reward_memory[batch]\n",
    "        actions = self.action_memory[batch]\n",
    "        dones = self.done_memory[batch]\n",
    "        return states, next_states, rewards, actions, dones"
   ]
  },
  {
   "cell_type": "code",
   "execution_count": 3,
   "metadata": {
    "colab": {
     "base_uri": "https://localhost:8080/",
     "height": 1000
    },
    "id": "iffzAWwBELNL",
    "outputId": "07816cb3-31f4-4ed0-8817-09e8c7b8bd5e"
   },
   "outputs": [],
   "source": [
    "class Critic(tf.keras.Model):\n",
    "    def __init__(self):\n",
    "        super(Critic, self).__init__()\n",
    "        self.f1 = tf.keras.layers.Dense(64, activation='relu')\n",
    "        self.f2 = tf.keras.layers.Dense(64, activation='relu')\n",
    "        self.f3 = tf.keras.layers.Dense(64, activation='relu')\n",
    "        self.f4 = tf.keras.layers.Dense(64, activation='relu')\n",
    "        self.v =  tf.keras.layers.Dense(1, activation=None)\n",
    "\n",
    "    def call(self, inputstate, action):\n",
    "        x = self.f1(tf.concat([inputstate, action], axis=1))\n",
    "        x = self.f2(x)\n",
    "        x = self.f3(x)\n",
    "        x = self.f4(x)\n",
    "        x = self.v(x)\n",
    "        return x"
   ]
  },
  {
   "cell_type": "code",
   "execution_count": 4,
   "metadata": {
    "colab": {
     "base_uri": "https://localhost:8080/",
     "height": 1000
    },
    "id": "iffzAWwBELNL",
    "outputId": "07816cb3-31f4-4ed0-8817-09e8c7b8bd5e"
   },
   "outputs": [],
   "source": [
    "class Actor(tf.keras.Model):\n",
    "    def __init__(self, no_action):\n",
    "        super(Actor, self).__init__()\n",
    "        self.f1 = tf.keras.layers.Dense(64, bias_initializer='zeros', kernel_initializer='zeros', activation='relu')\n",
    "        self.f2 = tf.keras.layers.Dense(64, bias_initializer='zeros', kernel_initializer='zeros', activation='relu')\n",
    "        self.mu =  tf.keras.layers.Dense(no_action, activation=None)\n",
    "\n",
    "    def call(self, state):\n",
    "        x = self.f1(state)\n",
    "        x = self.f2(x)\n",
    "        x = self.mu(x)\n",
    "        return x"
   ]
  },
  {
   "cell_type": "code",
   "execution_count": 5,
   "metadata": {
    "colab": {
     "base_uri": "https://localhost:8080/",
     "height": 1000
    },
    "id": "iffzAWwBELNL",
    "outputId": "07816cb3-31f4-4ed0-8817-09e8c7b8bd5e"
   },
   "outputs": [],
   "source": [
    "class Agent():\n",
    "    def __init__(self, n_action= 2):\n",
    "        self.actor_main = Actor(n_action)\n",
    "        self.actor_target = Actor(n_action)\n",
    "        self.critic_main = Critic()\n",
    "        self.critic_main2 = Critic()\n",
    "        self.critic_target = Critic()\n",
    "        self.critic_target2 = Critic()\n",
    "        self.batch_size = 64\n",
    "        self.n_actions = 2\n",
    "        self.a_opt = tf.keras.optimizers.Adam(0.001)\n",
    "        # self.actor_target = tf.keras.optimizers.Adam(.001)\n",
    "        self.c_opt1 = tf.keras.optimizers.Adam(0.002)\n",
    "        self.c_opt2 = tf.keras.optimizers.Adam(0.002)\n",
    "        # self.critic_target = tf.keras.optimizers.Adam(.002)\n",
    "        self.memory = RBuffer(100000, [3], n_action)\n",
    "        self.trainstep = 0\n",
    "        #self.replace = 5\n",
    "        self.gamma = 0.99\n",
    "        self.min_action = -100\n",
    "        self.max_action = 100\n",
    "        self.actor_update_steps = 20\n",
    "        self.warmup = 200\n",
    "        self.actor_target.compile(optimizer=self.a_opt)\n",
    "        self.critic_target.compile(optimizer=self.c_opt1)\n",
    "        self.critic_target2.compile(optimizer=self.c_opt2)\n",
    "        self.tau = 0.005\n",
    "\n",
    "    def savexp(self,state, next_state, action, done, reward):\n",
    "        self.memory.storexp(state, next_state, action, done, reward)\n",
    "\n",
    "    def update_target(self, tau=None):\n",
    "\n",
    "        if tau is None:\n",
    "            tau = self.tau\n",
    "\n",
    "        weights1 = []\n",
    "        targets1 = self.actor_target.weights\n",
    "        for i, weight in enumerate(self.actor_main.weights):\n",
    "            weights1.append(weight * tau + targets1[i]*(1-tau))\n",
    "        self.actor_target.set_weights(weights1)\n",
    "\n",
    "        weights2 = []\n",
    "        targets2 = self.critic_target.weights\n",
    "        for i, weight in enumerate(self.critic_main.weights):\n",
    "            weights2.append(weight * tau + targets2[i]*(1-tau))\n",
    "        self.critic_target.set_weights(weights2)\n",
    "\n",
    "\n",
    "        weights3 = []\n",
    "        targets3 = self.critic_target2.weights\n",
    "        for i, weight in enumerate(self.critic_main2.weights):\n",
    "            weights3.append(weight * tau + targets3[i]*(1-tau))\n",
    "        self.critic_target2.set_weights(weights3)\n",
    "\n",
    "  \n",
    "    def train(self):\n",
    "        if self.memory.cnt < self.batch_size:\n",
    "            return\n",
    "\n",
    "        states, next_states, rewards, actions, dones = self.memory.sample(self.batch_size)\n",
    "\n",
    "        states = tf.convert_to_tensor(states, dtype= tf.float32)\n",
    "        next_states = tf.convert_to_tensor(next_states, dtype= tf.float32)\n",
    "        rewards = tf.convert_to_tensor(rewards, dtype= tf.float32)\n",
    "        actions = tf.convert_to_tensor(actions, dtype= tf.float32)\n",
    "        #dones = tf.convert_to_tensor(dones, dtype= tf.bool)\n",
    "\n",
    "        with tf.GradientTape() as tape1, tf.GradientTape() as tape2:\n",
    "\n",
    "            target_actions = self.actor_target(next_states)\n",
    "            target_actions += tf.clip_by_value(tf.random.normal(shape=[*np.shape(target_actions)], mean=0.0, stddev=2), -0.5, 0.5)\n",
    "            target_actions = tf.clip_by_value(target_actions, self.min_action, self.max_action)\n",
    "\n",
    "\n",
    "            target_next_state_values = tf.squeeze(self.critic_target(next_states, target_actions), 1)\n",
    "            target_next_state_values2 = tf.squeeze(self.critic_target2(next_states, target_actions), 1)\n",
    "\n",
    "            critic_value = tf.squeeze(self.critic_main(states, actions), 1)\n",
    "            critic_value2 = tf.squeeze(self.critic_main2(states, actions), 1)\n",
    "\n",
    "            next_state_target_value = tf.math.minimum(target_next_state_values, target_next_state_values2)\n",
    "\n",
    "            target_values = rewards + self.gamma * next_state_target_value * dones\n",
    "            critic_loss1 = tf.keras.losses.MSE(target_values, critic_value)\n",
    "            critic_loss2 = tf.keras.losses.MSE(target_values, critic_value2)\n",
    "\n",
    "        grads1 = tape1.gradient(critic_loss1, self.critic_main.trainable_variables)\n",
    "        grads2 = tape2.gradient(critic_loss2, self.critic_main2.trainable_variables)\n",
    "\n",
    "        self.c_opt1.apply_gradients(zip(grads1, self.critic_main.trainable_variables))\n",
    "        self.c_opt2.apply_gradients(zip(grads2, self.critic_main2.trainable_variables))\n",
    "\n",
    "\n",
    "        self.trainstep +=1\n",
    "\n",
    "        if self.trainstep % self.actor_update_steps == 0:\n",
    "\n",
    "            with tf.GradientTape() as tape3:\n",
    "\n",
    "                new_policy_actions = self.actor_main(states)\n",
    "                actor_loss = self.critic_main(states, new_policy_actions)\n",
    "                actor_loss = tf.math.reduce_mean(actor_loss)\n",
    "\n",
    "            grads3 = tape3.gradient(actor_loss, self.actor_main.trainable_variables)\n",
    "            self.a_opt.apply_gradients(zip(grads3, self.actor_main.trainable_variables))\n",
    "\n",
    "        #if self.trainstep % self.replace == 0:\n",
    "        self.update_target()\n",
    "\n",
    "    def act(self, state, evaluate=False):\n",
    "        if self.trainstep > self.warmup:\n",
    "            evaluate = True\n",
    "        state = tf.convert_to_tensor([state], dtype=tf.float32)\n",
    "        actions = self.actor_main(state)\n",
    "        if not evaluate:\n",
    "            actions += tf.random.normal(shape=[self.n_actions], mean=0.0, stddev=1)\n",
    "        actions = tf.clip_by_value(actions, self.min_action, self.max_action)\n",
    "        return actions[0]"
   ]
  },
  {
   "cell_type": "code",
   "execution_count": 6,
   "metadata": {
    "colab": {
     "base_uri": "https://localhost:8080/",
     "height": 1000
    },
    "id": "iffzAWwBELNL",
    "outputId": "07816cb3-31f4-4ed0-8817-09e8c7b8bd5e",
    "scrolled": false
   },
   "outputs": [
    {
     "name": "stdout",
     "output_type": "stream",
     "text": [
      "total reward after 0 steps is 668692.3826944717 and avg reward is 668692.3826944717\n",
      "total reward after 50 steps is 12527250.419259246 and avg reward is 6597971.400976859\n",
      "total reward after 100 steps is 21217291.89869372 and avg reward is 11471078.233549148\n",
      "total reward after 150 steps is 112167.0263918016 and avg reward is 8631350.431759812\n",
      "total reward after 200 steps is 208681285.41667163 and avg reward is 48641337.42874218\n",
      "total reward after 250 steps is 2105451.9566195915 and avg reward is 40885356.51672175\n",
      "total reward after 300 steps is 232434204.07623878 and avg reward is 68249477.59665275\n",
      "total reward after 350 steps is 8250325.539083164 and avg reward is 60749583.58945654\n",
      "total reward after 400 steps is 2516419.724086655 and avg reward is 54279232.04885989\n",
      "total reward after 450 steps is 60.13213666804054 and avg reward is 48851314.85718756\n",
      "total reward after 500 steps is 568430.5894486806 and avg reward is 44461961.741938576\n",
      "total reward after 550 steps is 14740806.753388774 and avg reward is 41985198.82622609\n",
      "total reward after 600 steps is 3324.4628290135274 and avg reward is 38755823.87519555\n",
      "total reward after 650 steps is 6177998.704048106 and avg reward is 36428836.362970725\n",
      "total reward after 700 steps is 9902958.368827647 and avg reward is 34660444.49669452\n",
      "total reward after 750 steps is 7971715.7804793455 and avg reward is 32992398.95193108\n",
      "total reward after 800 steps is 5209320.4638811285 and avg reward is 31358100.217339907\n",
      "total reward after 850 steps is 3277056.536786863 and avg reward is 29798042.235086963\n",
      "total reward after 900 steps is 65796.93617914258 and avg reward is 28233187.219354972\n",
      "total reward after 950 steps is 2630178.3595879055 and avg reward is 26953036.776366614\n",
      "total reward after 1000 steps is 2105656.4795837416 and avg reward is 25769828.190805525\n",
      "total reward after 1050 steps is 3389159.8400347843 and avg reward is 24752525.08395231\n",
      "total reward after 1100 steps is 9100736.255011454 and avg reward is 24072012.526172277\n",
      "total reward after 1150 steps is 65631383.79339433 and avg reward is 25803652.995639857\n",
      "total reward after 1200 steps is 11900187.74728628 and avg reward is 25247514.385705713\n",
      "total reward after 1250 steps is 146270289.72821623 and avg reward is 29902236.514263812\n",
      "total reward after 1300 steps is 438873.4435519291 and avg reward is 28811000.844978187\n",
      "total reward after 1350 steps is 59136958.90914706 and avg reward is 29894070.77584136\n",
      "total reward after 1400 steps is 875237.4508509774 and avg reward is 28893421.35084169\n",
      "total reward after 1450 steps is 28140406.776514504 and avg reward is 28868320.865030784\n",
      "total reward after 1500 steps is 329524129.00328845 and avg reward is 38566895.32110361\n",
      "total reward after 1550 steps is 3814988.322931655 and avg reward is 37480898.22741074\n",
      "total reward after 1600 steps is 3321569.5073844134 and avg reward is 36445767.054076605\n",
      "total reward after 1650 steps is 1245933.9303640511 and avg reward is 35410477.84455565\n",
      "total reward after 1700 steps is 4492714.883555014 and avg reward is 34527113.18852706\n",
      "total reward after 1750 steps is 31871276.62075913 and avg reward is 34453339.95053351\n",
      "total reward after 1800 steps is 736445.7373298315 and avg reward is 33542072.53936584\n",
      "total reward after 1850 steps is 6756002.7726045 and avg reward is 32837175.96655633\n",
      "total reward after 1900 steps is 30387076.77349457 and avg reward is 32774352.910323974\n",
      "total reward after 1950 steps is 2945287.081211019 and avg reward is 32028626.264596153\n"
     ]
    }
   ],
   "source": [
    "from Angrybird import AngryBird\n",
    "with tf.device('GPU:0'):\n",
    "    tf.random.set_seed(336699)\n",
    "    agent = Agent(2)\n",
    "    env = AngryBird()\n",
    "    episods = 2000\n",
    "    ep_reward = []\n",
    "    total_avgr = []\n",
    "    target = False\n",
    "\n",
    "    for s in range(episods):\n",
    "        if target == True:\n",
    "            break\n",
    "        total_reward = 0\n",
    "        state = env.reset()\n",
    "        done = False\n",
    "        ## model of wing\n",
    "        cost = 0\n",
    "\n",
    "        while not done:\n",
    "            action = agent.act(state)\n",
    "            if (s+1) % 15 == 0 and False:\n",
    "                #print(s, state[0])\n",
    "                plt.scatter(state[1], state[2])\n",
    "            next_state, reward, done, _ = env.step(action)\n",
    "            agent.savexp(state, next_state, action, done, reward)\n",
    "            agent.train()\n",
    "            state = next_state\n",
    "            total_reward += reward\n",
    "        if done and s % 50 == 0:\n",
    "            ep_reward.append(total_reward)\n",
    "            avg_reward = np.mean(ep_reward[-100:])\n",
    "            total_avgr.append(avg_reward)\n",
    "            print(\"total reward after {} steps is {} and avg reward is {}\".format(s, total_reward, avg_reward))\n",
    "            if int(avg_reward) == 200:\n",
    "                target = True"
   ]
  },
  {
   "cell_type": "code",
   "execution_count": 7,
   "metadata": {},
   "outputs": [],
   "source": [
    "agent.actor_main.save_weights(\"td3_actor\")"
   ]
  },
  {
   "cell_type": "code",
   "execution_count": 8,
   "metadata": {},
   "outputs": [
    {
     "data": {
      "text/plain": [
       "<tensorflow.python.training.tracking.util.CheckpointLoadStatus at 0x7f3c10227a60>"
      ]
     },
     "execution_count": 8,
     "metadata": {},
     "output_type": "execute_result"
    }
   ],
   "source": [
    "a = Actor(2)\n",
    "a.load_weights(\"td3_actor\")"
   ]
  },
  {
   "cell_type": "code",
   "execution_count": 9,
   "metadata": {
    "colab": {
     "base_uri": "https://localhost:8080/",
     "height": 1000
    },
    "id": "iffzAWwBELNL",
    "outputId": "07816cb3-31f4-4ed0-8817-09e8c7b8bd5e",
    "scrolled": false
   },
   "outputs": [
    {
     "name": "stdout",
     "output_type": "stream",
     "text": [
      "3.2364431230237187\n",
      "3.2364431230237187\n",
      "3.2364431230237187\n",
      "3.2364431230237187\n",
      "3.2364431230237187\n",
      "3.2364431230237187\n",
      "3.2364431230237187\n",
      "3.2364431230237187\n",
      "3.2364431230237187\n",
      "14529098.84292482\n",
      "14529127.970912928\n"
     ]
    },
    {
     "data": {
      "image/png": "[encoded data removed]",
      "text/plain": [
       "<Figure size 432x288 with 1 Axes>"
      ]
     },
     "metadata": {
      "needs_background": "light"
     },
     "output_type": "display_data"
    }
   ],
   "source": [
    "env = AngryBird()\n",
    "with tf.device('GPU:0'):\n",
    "    total_reward = 0\n",
    "    state = env.reset()\n",
    "    done = False\n",
    "    ## model of wing\n",
    "    cost = 0\n",
    "\n",
    "    while not done:\n",
    "        action = agent.act(state, evaluate=True)\n",
    "        plt.scatter(state[1], state[2])\n",
    "        next_state, reward, done, _ = env.step(action)\n",
    "        print(reward)\n",
    "        state = next_state\n",
    "        cost += reward\n",
    "    print(cost)\n",
    "    plt.scatter(state[1], state[2])"
   ]
  },
  {
   "cell_type": "code",
   "execution_count": 10,
   "metadata": {
    "id": "cFoOf-MYf-Ep"
   },
   "outputs": [
    {
     "data": {
      "image/png": "[encoded data removed]",
      "text/plain": [
       "<Figure size 432x288 with 1 Axes>"
      ]
     },
     "metadata": {
      "needs_background": "light"
     },
     "output_type": "display_data"
    }
   ],
   "source": [
    "ep = [i  for i in range(len(total_avgr))]\n",
    "plt.plot( range(len(total_avgr)),total_avgr,'b')\n",
    "plt.title(\"Avg Test Aeward Vs Test Episods\")\n",
    "plt.xlabel(\"Test Episods\")\n",
    "\n",
    "plt.ylabel(\"Average Test Reward\")\n",
    "plt.grid(True)\n",
    "plt.show()"
   ]
  }
 ],
 "metadata": {
  "accelerator": "GPU",
  "colab": {
   "authorship_tag": "ABX9TyPy/vODWhRXFnIkwHUNOvhl",
   "include_colab_link": true,
   "name": "td3withtau.ipynb",
   "provenance": []
  },
  "kernelspec": {
   "display_name": "Python 3",
   "language": "python",
   "name": "python3"
  },
  "language_info": {
   "codemirror_mode": {
    "name": "ipython",
    "version": 3
   },
   "file_extension": ".py",
   "mimetype": "text/x-python",
   "name": "python",
   "nbconvert_exporter": "python",
   "pygments_lexer": "ipython3",
   "version": "3.8.5"
  }
 },
 "nbformat": 4,
 "nbformat_minor": 1
}
