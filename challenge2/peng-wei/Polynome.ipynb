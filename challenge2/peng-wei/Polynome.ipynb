{
 "cells": [
  {
   "cell_type": "code",
   "execution_count": 1,
   "metadata": {},
   "outputs": [],
   "source": [
    "from Angrybird import AngryBird\n",
    "import numpy as np\n",
    "import matplotlib.pyplot as plt\n",
    "#import tensorflow as tf\n",
    "from tqdm.notebook import tqdm"
   ]
  },
  {
   "cell_type": "code",
   "execution_count": 2,
   "metadata": {},
   "outputs": [],
   "source": [
    "seconds = np.arange(11)\n",
    "pos = np.zeros((11, 2))\n",
    "pos[:, 0] = seconds * 10\n",
    "pos[:, 1] = seconds * 20 - 2 * seconds**2\n",
    "\n",
    "coeffs = np.load(\"c.npy\")\n",
    "def main(state):\n",
    "    t = state[0]\n",
    "    return coeffs[:2]*pos[int(t)]-coeffs[2:4]*state[1:] + coeffs[4:]"
   ]
  },
  {
   "cell_type": "raw",
   "metadata": {},
   "source": [
    "# upper bound/lower bound\n",
    "db1 = np.ones(9) * 200\n",
    "ub1 = np.zeros(9)\n",
    "db2 = np.ones(9) * 200\n",
    "ub2 = np.zeros(9)\n",
    "env = AngryBird()\n",
    "for j in range(10000):\n",
    "    state = env.reset()\n",
    "    for i in range(11):\n",
    "        if i < 9:\n",
    "            state, cost, done, _ = env.step(main(state))\n",
    "            x1 = state[1]\n",
    "            x2 = state[2]\n",
    "            db1[i] = min(db1[i], x1)\n",
    "            ub1[i] = max(ub1[i], x1)\n",
    "            db2[i] = min(db2[i], x2)\n",
    "            ub2[i] = max(ub2[i], x2)\n",
    "        else:\n",
    "            state, cost, done, _ = env.step(np.zeros(2))\n",
    "print(ub1 - db1)\n",
    "print(ub2 - db2)\n",
    "np.save(\"db1\", db1)\n",
    "np.save(\"ub1\", ub1)\n",
    "np.save(\"db2\", db2)\n",
    "np.save(\"ub2\", ub2)"
   ]
  },
  {
   "cell_type": "code",
   "execution_count": 3,
   "metadata": {},
   "outputs": [
    {
     "name": "stdout",
     "output_type": "stream",
     "text": [
      "[ 3.39762732  6.29015667  7.41270714  8.76507905 10.17422219 12.02300831\n",
      " 14.71947301 15.07288856 17.66715812]\n",
      "[ 3.67227892  5.79009235  7.35489345  8.64400361  9.6315752  11.989377\n",
      " 13.32669018 15.0594309  16.80086753]\n"
     ]
    }
   ],
   "source": [
    "db1=np.load(\"db1.npy\")\n",
    "db2=np.load(\"db2.npy\")\n",
    "ub1=np.load(\"ub1.npy\")\n",
    "ub2=np.load(\"ub2.npy\")\n",
    "print(ub1 - db1)\n",
    "print(ub2 - db2)"
   ]
  },
  {
   "cell_type": "code",
   "execution_count": 4,
   "metadata": {},
   "outputs": [],
   "source": [
    "# Polynome de deg 3\n",
    "def init_mat():\n",
    "    fmat = []\n",
    "    fmat.append(np.zeros((1, 1, 2)))\n",
    "    for i in range(1, 10):\n",
    "        fmat.append(np.zeros((i, i, 8)))\n",
    "    return fmat\n",
    "\n",
    "def force_from_coeff(x1, x2, coeffs):\n",
    "    x1 /= 100\n",
    "    x2 /= 50\n",
    "    a0, a1, a2, a3, b0, b1, b2, b3 = coeffs\n",
    "    force1 = a0 + a1*x1 + a2*x1**2 + a3*x1**3\n",
    "    force2 = b0 + b1*x2 + b2*x2**2 + b3*x2**3\n",
    "    return np.array([force1, force2])\n",
    "\n",
    "def force_from_mat(mat, state):\n",
    "    t, x1, x2 = state\n",
    "    t = int(t)\n",
    "    if t == 0:\n",
    "        return mat[0][0][0]\n",
    "    else:\n",
    "        i1 = min(max(int((x1 - db1[t-1]) / (ub1[t-1]-db1[t-1]) * t), 0), t-1)\n",
    "        i2 = min(max(int((x2 - db2[t-1]) / (ub2[t-1]-db2[t-1]) * t), 0), t-1)\n",
    "        #return mat[t][i1][i2]\n",
    "        #print(i1, i2)\n",
    "        return force_from_coeff(x1, x2, mat[t][i1][i2])\n",
    "\n",
    "def rand_place():\n",
    "    i = np.random.randint(0, 2282)\n",
    "    #print(i)\n",
    "    if i < 2:\n",
    "        return 0, 0, 0, i\n",
    "    else:\n",
    "        j = 2\n",
    "        for a in range(1, 10):\n",
    "            for b in range(a):\n",
    "                for c in range(a):\n",
    "                    for d in range(8):\n",
    "                        if i == j:\n",
    "                            return a, b, c, d\n",
    "                        else:\n",
    "                            j += 1\n",
    "    print(i)\n",
    "\n",
    "def rand_places(i):\n",
    "    places = []\n",
    "    for _ in range(i):\n",
    "        places.append(rand_place())\n",
    "    return places\n",
    "\n",
    "def tups_update(mat, places, lr, j):\n",
    "    try:\n",
    "        for tup in places:\n",
    "            a, b, c, d = tup\n",
    "            mat[a][b][c][d] += lr * j\n",
    "    except:\n",
    "        print(places)\n",
    "def use_mat(place_mat, state):\n",
    "    t, x1, x2 = state\n",
    "    t = int(t)\n",
    "    if t == 0:\n",
    "        place_mat[0][0][0] = 1\n",
    "    else:\n",
    "        i1 = min(max(int((x1 - db1[t-1]) / (ub1[t-1]-db1[t-1]) * t), 0), t-1)\n",
    "        i2 = min(max(int((x2 - db2[t-1]) / (ub2[t-1]-db2[t-1]) * t), 0), t-1)\n",
    "        #return mat[t][i1][i2]\n",
    "        #print(i1, i2)\n",
    "        place_mat[t][i1][i2] = 1"
   ]
  },
  {
   "cell_type": "raw",
   "metadata": {},
   "source": [
    "m = 10000\n",
    "vents = []\n",
    "for _ in range(m):\n",
    "    vents.append(env.init_vent())"
   ]
  },
  {
   "cell_type": "code",
   "execution_count": 5,
   "metadata": {},
   "outputs": [],
   "source": [
    "#np.save(\"vents\", vents)\n",
    "vents = np.load(\"vents.npy\")"
   ]
  },
  {
   "cell_type": "code",
   "execution_count": 6,
   "metadata": {},
   "outputs": [],
   "source": [
    "#umat = init_mat()\n",
    "#umat = np.load(\"umat.npy\",allow_pickle=True)\n",
    "vmat = init_mat()"
   ]
  },
  {
   "cell_type": "code",
   "execution_count": null,
   "metadata": {
    "scrolled": true
   },
   "outputs": [
    {
     "name": "stdout",
     "output_type": "stream",
     "text": [
      "Step 50, last cost = 119.25982747843366, mean over 100 rounds = 119.25994748420031\n",
      "Step 100, last cost = 119.25999953856963, mean over 100 rounds = 119.25995200987929\n",
      "Step 150, last cost = 119.26035144395395, mean over 100 rounds = 119.26007155013595\n",
      "Step 200, last cost = 119.26016879073295, mean over 100 rounds = 119.26022155511527\n",
      "Step 250, last cost = 119.2599486167645, mean over 100 rounds = 119.26018676254111\n",
      "Step 300, last cost = 119.25965170798737, mean over 100 rounds = 119.25989116229816\n",
      "Step 350, last cost = 119.25979276201453, mean over 100 rounds = 119.25973030610508\n",
      "Step 400, last cost = 119.2597668675786, mean over 100 rounds = 119.25979712295765\n",
      "Step 450, last cost = 119.25976876805981, mean over 100 rounds = 119.2598075160119\n",
      "Step 500, last cost = 119.25959302267124, mean over 100 rounds = 119.25971661523462\n",
      "Step 550, last cost = 119.25947843862284, mean over 100 rounds = 119.25960427962269\n",
      "Step 600, last cost = 119.2597824117811, mean over 100 rounds = 119.25960554801725\n",
      "Step 650, last cost = 119.25971840251972, mean over 100 rounds = 119.25968166928845\n",
      "Step 700, last cost = 119.25959769515346, mean over 100 rounds = 119.25969038069887\n",
      "Step 750, last cost = 119.25937633375035, mean over 100 rounds = 119.25945480735852\n",
      "Step 800, last cost = 119.25934017120247, mean over 100 rounds = 119.2593193301726\n",
      "Step 850, last cost = 119.25936245854949, mean over 100 rounds = 119.25934965980696\n",
      "Step 900, last cost = 119.25894886718925, mean over 100 rounds = 119.25921743271705\n",
      "Step 950, last cost = 119.25874914160822, mean over 100 rounds = 119.25896265669586\n",
      "Step 1000, last cost = 119.25857870472295, mean over 100 rounds = 119.2587406112394\n",
      "Step 1050, last cost = 119.25834960947363, mean over 100 rounds = 119.25850311671724\n",
      "Step 1100, last cost = 119.25841665410839, mean over 100 rounds = 119.25838420545368\n",
      "Step 1150, last cost = 119.25833396630566, mean over 100 rounds = 119.25836361893329\n",
      "Step 1200, last cost = 119.25851836371213, mean over 100 rounds = 119.25835794394499\n",
      "Step 1250, last cost = 119.25851903596268, mean over 100 rounds = 119.25844172172017\n",
      "Step 1300, last cost = 119.25901878271063, mean over 100 rounds = 119.25870504138213\n",
      "Step 1350, last cost = 119.25943819003218, mean over 100 rounds = 119.25903746039839\n",
      "Step 1400, last cost = 119.25939631855199, mean over 100 rounds = 119.25927787684849\n",
      "Step 1450, last cost = 119.25934240540153, mean over 100 rounds = 119.25940493683616\n",
      "Step 1500, last cost = 119.25953451818327, mean over 100 rounds = 119.2594160671444\n",
      "Step 1550, last cost = 119.25928251173009, mean over 100 rounds = 119.25940414739476\n",
      "Step 1600, last cost = 119.25933749966234, mean over 100 rounds = 119.25932952086175\n",
      "Step 1650, last cost = 119.25914763980953, mean over 100 rounds = 119.25923351423029\n",
      "Step 1700, last cost = 119.25900616673916, mean over 100 rounds = 119.25917662433763\n",
      "Step 1750, last cost = 119.25885756863198, mean over 100 rounds = 119.25905556189771\n",
      "Step 1800, last cost = 119.25863577175437, mean over 100 rounds = 119.25878430845597\n",
      "Step 1850, last cost = 119.25842604234104, mean over 100 rounds = 119.25857342217631\n",
      "Step 1900, last cost = 119.25854478081278, mean over 100 rounds = 119.25852443549142\n",
      "Step 1950, last cost = 119.25854888342077, mean over 100 rounds = 119.25853842745697\n",
      "Step 2000, last cost = 119.25847384579839, mean over 100 rounds = 119.25857592190208\n",
      "Step 2050, last cost = 119.25819598895134, mean over 100 rounds = 119.25848859590613\n"
     ]
    }
   ],
   "source": [
    "env = AngryBird()\n",
    "restart = True and False\n",
    "lr = 0.01\n",
    "m = 1000\n",
    "if restart:\n",
    "    step = 1\n",
    "    all_rewards = []\n",
    "rewards = np.zeros(m)\n",
    "average_reward = 300.\n",
    "while average_reward > 110.:\n",
    "    place_mat = init_mat()\n",
    "    if (step+1)%50==0:\n",
    "        print(\"Step {}, last cost = {}, mean over 100 rounds = {}\".format(step+1, average_reward, np.mean(all_rewards[-100:])))\n",
    "        np.save(\"rewards\", all_rewards)\n",
    "    nb=max(10, int(100 / np.sqrt(step)))\n",
    "    places = rand_places(nb)\n",
    "    tups_update(vmat, places, lr, 1)\n",
    "    cost1 = 0.\n",
    "    #cost2 = 0.\n",
    "    j_ = 0.\n",
    "    for z in range(m):\n",
    "        state = env.reset()\n",
    "        env.vent=vents[z]\n",
    "        for i in range(10):\n",
    "            u_force = force_from_mat(umat, state) + main(state)\n",
    "            v_force = force_from_mat(vmat, state)\n",
    "            use_mat(place_mat, state)\n",
    "            state, _, _, _ = env.step(u_force, v_force)\n",
    "        env.step(np.zeros(2))\n",
    "        cost1 += np.sum(env.cost)\n",
    "        rewards[z] = np.sum(env.cost)\n",
    "        j_ += env.j_prime_MC()\n",
    "    for i in range(10):\n",
    "        vmat[i] *= place_mat[i]\n",
    "        umat[i] += -j_/m * vmat[i]\n",
    "    vmat = init_mat()\n",
    "    step+=1\n",
    "    average_reward = np.mean(rewards)\n",
    "    all_rewards.append(average_reward)"
   ]
  },
  {
   "cell_type": "markdown",
   "metadata": {},
   "source": [
    "#### Save\n",
    "db1, ub1, db2, ub2, umat"
   ]
  },
  {
   "cell_type": "raw",
   "metadata": {},
   "source": [
    "umat = np.array(umat, dtype=object)\n",
    "np.save(\"umat\", umat)"
   ]
  }
 ],
 "metadata": {
  "kernelspec": {
   "display_name": "Python 3",
   "language": "python",
   "name": "python3"
  },
  "language_info": {
   "codemirror_mode": {
    "name": "ipython",
    "version": 3
   },
   "file_extension": ".py",
   "mimetype": "text/x-python",
   "name": "python",
   "nbconvert_exporter": "python",
   "pygments_lexer": "ipython3",
   "version": "3.8.5"
  }
 },
 "nbformat": 4,
 "nbformat_minor": 4
}
