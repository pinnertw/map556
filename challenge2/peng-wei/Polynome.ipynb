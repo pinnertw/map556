{
 "cells": [
  {
   "cell_type": "code",
   "execution_count": 1,
   "metadata": {},
   "outputs": [],
   "source": [
    "from Angrybird import AngryBird\n",
    "import numpy as np\n",
    "import matplotlib.pyplot as plt\n",
    "#import tensorflow as tf\n",
    "from tqdm.notebook import tqdm"
   ]
  },
  {
   "cell_type": "code",
   "execution_count": 2,
   "metadata": {},
   "outputs": [
    {
     "name": "stdout",
     "output_type": "stream",
     "text": [
      "(array([ 1.        , 10.62066026, 17.9348062 ]), 0.0, False, None)\n",
      "(array([ 2.        , 22.07286858, 30.79423652]), 0.0, False, None)\n",
      "(array([ 3.        , 34.1063792 , 38.36176627]), 0.0, False, None)\n",
      "(array([ 4.        , 47.03640483, 40.67747271]), 0.0, False, None)\n",
      "(array([ 5.        , 61.30443218, 38.0988979 ]), 0.0, False, None)\n",
      "(array([ 6.        , 76.07770513, 30.17268727]), 0.0, False, None)\n",
      "(array([ 7.        , 90.83431402, 18.1529957 ]), 0.0, False, None)\n",
      "(array([  8.        , 107.08724705,   0.47372754]), 0.0, False, None)\n",
      "(array([  9.        , 125.5124703 , -22.87753652]), 0.0, False, None)\n",
      "(array([ 10.        , 145.63854672, -51.56595679]), 0.0, False, None)\n",
      "(array([ 11.        , 145.63854672, -51.56595679]), 18914.99810289746, True, None)\n"
     ]
    }
   ],
   "source": [
    "env = AngryBird()\n",
    "env.reset()\n",
    "for i in range(11):\n",
    "    print(env.step(np.zeros(2)))"
   ]
  },
  {
   "cell_type": "code",
   "execution_count": 3,
   "metadata": {},
   "outputs": [
    {
     "data": {
      "text/plain": [
       "0.0"
      ]
     },
     "execution_count": 3,
     "metadata": {},
     "output_type": "execute_result"
    }
   ],
   "source": [
    "env.j_prime_MC()"
   ]
  }
 ],
 "metadata": {
  "kernelspec": {
   "display_name": "Python 3",
   "language": "python",
   "name": "python3"
  },
  "language_info": {
   "codemirror_mode": {
    "name": "ipython",
    "version": 3
   },
   "file_extension": ".py",
   "mimetype": "text/x-python",
   "name": "python",
   "nbconvert_exporter": "python",
   "pygments_lexer": "ipython3",
   "version": "3.8.5"
  }
 },
 "nbformat": 4,
 "nbformat_minor": 4
}
