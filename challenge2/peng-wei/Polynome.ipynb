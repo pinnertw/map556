{
 "cells": [
  {
   "cell_type": "code",
   "execution_count": 1,
   "metadata": {},
   "outputs": [],
   "source": [
    "from Angrybird import AngryBird\n",
    "import numpy as np\n",
    "import matplotlib.pyplot as plt\n",
    "#import tensorflow as tf\n",
    "from tqdm.notebook import tqdm"
   ]
  },
  {
   "cell_type": "code",
   "execution_count": null,
   "metadata": {},
   "outputs": [],
   "source": [
    "seconds = np.arange(11)\n",
    "pos = np.zeros((11, 2))\n",
    "pos[:, 0] = seconds * 10\n",
    "pos[:, 1] = seconds * 20 - 2 * seconds**2\n",
    "\n",
    "coeffs = np.load(\"c.npy\")\n",
    "def main(state, coeffs):\n",
    "    t = state[0]\n",
    "    return coeffs[:2]*pos[int(t)]-coeffs[2:]*state[1:]"
   ]
  },
  {
   "cell_type": "raw",
   "metadata": {},
   "source": [
    "# upper bound/lower bound\n",
    "db1 = np.ones(9) * 200\n",
    "ub1 = np.zeros(9)\n",
    "db2 = np.ones(9) * 200\n",
    "ub2 = np.zeros(9)\n",
    "env = AngryBird()\n",
    "for j in range(10000):\n",
    "    state = env.reset()\n",
    "    for i in range(11):\n",
    "        if i < 9:\n",
    "            state, cost, done, _ = env.step(np.zeros(2))\n",
    "            x1 = state[1]\n",
    "            x2 = state[2]\n",
    "            db1[i] = min(db1[i], x1)\n",
    "            ub1[i] = max(ub1[i], x1)\n",
    "            db2[i] = min(db2[i], x2)\n",
    "            ub2[i] = max(ub2[i], x2)\n",
    "        else:\n",
    "            state, cost, done, _ = env.step(np.zeros(2))\n",
    "print(ub1 - db1)\n",
    "print(ub2 - db2)\n",
    "np.save(\"db1\", db1)\n",
    "np.save(\"ub1\", ub1)\n",
    "np.save(\"db2\", db2)\n",
    "np.save(\"ub2\", ub2)"
   ]
  },
  {
   "cell_type": "code",
   "execution_count": 2,
   "metadata": {},
   "outputs": [
    {
     "name": "stdout",
     "output_type": "stream",
     "text": [
      "[  3.3702401    9.64839558  18.13527645  26.98632257  38.0141466\n",
      "  50.74219191  65.30956424  81.90413466 103.90807588]\n",
      "[  3.86655689   9.40276866  17.21078777  28.23815127  40.31978872\n",
      "  53.67959175  67.17050199  83.13494255 104.10694185]\n"
     ]
    }
   ],
   "source": [
    "db1=np.load(\"db1.npy\")\n",
    "db2=np.load(\"db2.npy\")\n",
    "ub1=np.load(\"ub1.npy\")\n",
    "ub2=np.load(\"ub2.npy\")\n",
    "print(ub1 - db1)\n",
    "print(ub2 - db2)"
   ]
  },
  {
   "cell_type": "code",
   "execution_count": 3,
   "metadata": {},
   "outputs": [],
   "source": [
    "# Polynome de deg 3\n",
    "def init_mat():\n",
    "    fmat = []\n",
    "    fmat.append(np.zeros((1, 1, 2)))\n",
    "    for i in range(1, 10):\n",
    "        fmat.append(np.zeros((i, i, 8)))\n",
    "    return fmat\n",
    "\n",
    "def force_from_coeff(x1, x2, coeffs):\n",
    "    x1 /= 100\n",
    "    x2 /= 50\n",
    "    a0, a1, a2, a3, b0, b1, b2, b3 = coeffs\n",
    "    force1 = a0 + a1*x1 + a2*x1**2 + a3*x1**3\n",
    "    force2 = b0 + b1*x2 + b2*x2**2 + b3*x2**3\n",
    "    return np.array([force1, force2])\n",
    "\n",
    "def force_from_mat(mat, state):\n",
    "    t, x1, x2 = state\n",
    "    t = int(t)\n",
    "    if t == 0:\n",
    "        return mat[0][0][0]\n",
    "    else:\n",
    "        i1 = min(max(int((x1 - db1[t-1]) / (ub1[t-1]-db1[t-1]) * t), 0), t-1)\n",
    "        i2 = min(max(int((x2 - db2[t-1]) / (ub2[t-1]-db2[t-1]) * t), 0), t-1)\n",
    "        #return mat[t][i1][i2]\n",
    "        #print(i1, i2)\n",
    "        return force_from_coeff(x1, x2, mat[t][i1][i2])\n",
    "\n",
    "# Force de rappel\n",
    "def main(state):\n",
    "    t = state[0]\n",
    "    return 1.59 * (-1.0125*state[1:]+np.array([10*t, 20*t-2*t**2]))\n",
    "\n",
    "def rand_place():\n",
    "    i = np.random.randint(0, 2282)\n",
    "    #print(i)\n",
    "    if i < 2:\n",
    "        return 0, 0, 0, i\n",
    "    else:\n",
    "        j = 2\n",
    "        for a in range(1, 10):\n",
    "            for b in range(a):\n",
    "                for c in range(a):\n",
    "                    for d in range(8):\n",
    "                        if i == j:\n",
    "                            return a, b, c, d\n",
    "                        else:\n",
    "                            j += 1\n",
    "    print(i)\n",
    "\n",
    "def rand_places(i):\n",
    "    places = []\n",
    "    for _ in range(i):\n",
    "        places.append(rand_place())\n",
    "    return places\n",
    "\n",
    "def tups_update(mat, places, lr, j):\n",
    "    try:\n",
    "        for tup in places:\n",
    "            a, b, c, d = tup\n",
    "            mat[a][b][c][d] += lr * j\n",
    "    except:\n",
    "        print(places)\n",
    "def use_mat(place_mat, state):\n",
    "    t, x1, x2 = state\n",
    "    t = int(t)\n",
    "    if t == 0:\n",
    "        place_mat[0][0][0] = 1\n",
    "    else:\n",
    "        i1 = min(max(int((x1 - db1[t-1]) / (ub1[t-1]-db1[t-1]) * t), 0), t-1)\n",
    "        i2 = min(max(int((x2 - db2[t-1]) / (ub2[t-1]-db2[t-1]) * t), 0), t-1)\n",
    "        #return mat[t][i1][i2]\n",
    "        #print(i1, i2)\n",
    "        place_mat[t][i1][i2] = 1"
   ]
  },
  {
   "cell_type": "code",
   "execution_count": 4,
   "metadata": {},
   "outputs": [],
   "source": [
    "umat = init_mat()\n",
    "#umat = np.load(\"umat.npy\")\n",
    "vmat = init_mat()"
   ]
  },
  {
   "cell_type": "raw",
   "metadata": {},
   "source": [
    "m = 10000\n",
    "vents = []\n",
    "for _ in range(m):\n",
    "    vents.append(env.init_vent())"
   ]
  },
  {
   "cell_type": "code",
   "execution_count": 5,
   "metadata": {},
   "outputs": [],
   "source": [
    "#np.save(\"vents\", vents)\n",
    "vents = np.load(\"vents.npy\")"
   ]
  },
  {
   "cell_type": "code",
   "execution_count": 14,
   "metadata": {
    "scrolled": true
   },
   "outputs": [
    {
     "name": "stdout",
     "output_type": "stream",
     "text": [
      "Step 10, last cost = 117.08672643416843, mean over 100 rounds = 117.08674698225792\n",
      "Step 20, last cost = 117.08682079106342, mean over 100 rounds = 117.08676510595177\n",
      "Step 30, last cost = 117.086869945366, mean over 100 rounds = 117.08679034503082\n",
      "Step 40, last cost = 117.08627440104125, mean over 100 rounds = 117.08674875229572\n",
      "Step 50, last cost = 117.08666190246556, mean over 100 rounds = 117.08671821188993\n",
      "Step 60, last cost = 117.08666207432104, mean over 100 rounds = 117.08670812691153\n",
      "Step 70, last cost = 117.0864456340381, mean over 100 rounds = 117.08669170340917\n",
      "Step 80, last cost = 117.08646340020539, mean over 100 rounds = 117.08666204691951\n",
      "Step 90, last cost = 117.08619562021758, mean over 100 rounds = 117.08660969782692\n",
      "Step 100, last cost = 117.0861944013362, mean over 100 rounds = 117.08656755807195\n",
      "Step 110, last cost = 117.08606777261545, mean over 100 rounds = 117.08650121596884\n",
      "Step 120, last cost = 117.08653822925339, mean over 100 rounds = 117.0864440297274\n",
      "Step 130, last cost = 117.0864812050038, mean over 100 rounds = 117.08640877644144\n",
      "Step 140, last cost = 117.08616484606449, mean over 100 rounds = 117.08636991435237\n",
      "Step 150, last cost = 117.08607295919542, mean over 100 rounds = 117.08631696434266\n",
      "Step 160, last cost = 117.08608463512884, mean over 100 rounds = 117.08625915997486\n",
      "Step 170, last cost = 117.08586891313472, mean over 100 rounds = 117.08619191317914\n",
      "Step 180, last cost = 117.08594901784633, mean over 100 rounds = 117.08613750990615\n",
      "Step 190, last cost = 117.08584392672114, mean over 100 rounds = 117.08610993115921\n",
      "Step 200, last cost = 117.08579094829814, mean over 100 rounds = 117.0860678717411\n",
      "Step 210, last cost = 117.08571297505155, mean over 100 rounds = 117.08603921536665\n",
      "Step 220, last cost = 117.0857731734644, mean over 100 rounds = 117.08598982438544\n",
      "Step 230, last cost = 117.08558390096228, mean over 100 rounds = 117.0859059047776\n",
      "Step 240, last cost = 117.08553146409567, mean over 100 rounds = 117.08583827803626\n",
      "Step 250, last cost = 117.08549535236567, mean over 100 rounds = 117.0857827376729\n",
      "Step 260, last cost = 117.08550780253165, mean over 100 rounds = 117.08572496341372\n",
      "Step 270, last cost = 117.08555713289434, mean over 100 rounds = 117.08568390590317\n",
      "Step 280, last cost = 117.08560737069978, mean over 100 rounds = 117.08564951880163\n",
      "Step 290, last cost = 117.08590156689306, mean over 100 rounds = 117.0856321982991\n",
      "Step 300, last cost = 117.0855624044121, mean over 100 rounds = 117.08563591714719\n",
      "Step 310, last cost = 117.08573656647165, mean over 100 rounds = 117.08561572593776\n",
      "Step 320, last cost = 117.08561457194931, mean over 100 rounds = 117.08561188935884\n",
      "Step 330, last cost = 117.08521637448496, mean over 100 rounds = 117.0855883650449\n",
      "Step 340, last cost = 117.08497596701564, mean over 100 rounds = 117.08553137946065\n",
      "Step 350, last cost = 117.08499526544074, mean over 100 rounds = 117.08547763495261\n",
      "Step 360, last cost = 117.08522056758343, mean over 100 rounds = 117.0854424844678\n",
      "Step 370, last cost = 117.08521966757974, mean over 100 rounds = 117.0854131728384\n",
      "Step 380, last cost = 117.08526119002286, mean over 100 rounds = 117.08538054479963\n"
     ]
    },
    {
     "ename": "KeyboardInterrupt",
     "evalue": "",
     "output_type": "error",
     "traceback": [
      "\u001b[0;31m---------------------------------------------------------------------------\u001b[0m",
      "\u001b[0;31mKeyboardInterrupt\u001b[0m                         Traceback (most recent call last)",
      "\u001b[0;32m<ipython-input-14-7f1086946b20>\u001b[0m in \u001b[0;36m<module>\u001b[0;34m\u001b[0m\n\u001b[1;32m     29\u001b[0m             \u001b[0mv_force\u001b[0m \u001b[0;34m=\u001b[0m \u001b[0mforce_from_mat\u001b[0m\u001b[0;34m(\u001b[0m\u001b[0mvmat\u001b[0m\u001b[0;34m,\u001b[0m \u001b[0mstate\u001b[0m\u001b[0;34m)\u001b[0m\u001b[0;34m\u001b[0m\u001b[0;34m\u001b[0m\u001b[0m\n\u001b[1;32m     30\u001b[0m             \u001b[0muse_mat\u001b[0m\u001b[0;34m(\u001b[0m\u001b[0mplace_mat\u001b[0m\u001b[0;34m,\u001b[0m \u001b[0mstate\u001b[0m\u001b[0;34m)\u001b[0m\u001b[0;34m\u001b[0m\u001b[0;34m\u001b[0m\u001b[0m\n\u001b[0;32m---> 31\u001b[0;31m             \u001b[0mstate\u001b[0m\u001b[0;34m,\u001b[0m \u001b[0m_\u001b[0m\u001b[0;34m,\u001b[0m \u001b[0m_\u001b[0m\u001b[0;34m,\u001b[0m \u001b[0m_\u001b[0m \u001b[0;34m=\u001b[0m \u001b[0menv\u001b[0m\u001b[0;34m.\u001b[0m\u001b[0mstep\u001b[0m\u001b[0;34m(\u001b[0m\u001b[0mu_force\u001b[0m\u001b[0;34m,\u001b[0m \u001b[0mv_force\u001b[0m\u001b[0;34m)\u001b[0m\u001b[0;34m\u001b[0m\u001b[0;34m\u001b[0m\u001b[0m\n\u001b[0m\u001b[1;32m     32\u001b[0m             \u001b[0;31m#state2, _, _, _ = env2.step(v_force)\u001b[0m\u001b[0;34m\u001b[0m\u001b[0;34m\u001b[0m\u001b[0;34m\u001b[0m\u001b[0m\n\u001b[1;32m     33\u001b[0m         \u001b[0menv\u001b[0m\u001b[0;34m.\u001b[0m\u001b[0mstep\u001b[0m\u001b[0;34m(\u001b[0m\u001b[0mnp\u001b[0m\u001b[0;34m.\u001b[0m\u001b[0mzeros\u001b[0m\u001b[0;34m(\u001b[0m\u001b[0;36m2\u001b[0m\u001b[0;34m)\u001b[0m\u001b[0;34m)\u001b[0m\u001b[0;34m\u001b[0m\u001b[0;34m\u001b[0m\u001b[0m\n",
      "\u001b[0;32m~/map556/challenge2/peng-wei/Angrybird.py\u001b[0m in \u001b[0;36mstep\u001b[0;34m(self, action, v_action)\u001b[0m\n\u001b[1;32m     67\u001b[0m             \u001b[0;32mreturn\u001b[0m \u001b[0mself\u001b[0m\u001b[0;34m.\u001b[0m\u001b[0mX\u001b[0m\u001b[0;34m,\u001b[0m \u001b[0mself\u001b[0m\u001b[0;34m.\u001b[0m\u001b[0mcost\u001b[0m\u001b[0;34m[\u001b[0m\u001b[0;36m10\u001b[0m\u001b[0;34m]\u001b[0m\u001b[0;34m,\u001b[0m \u001b[0;32mTrue\u001b[0m\u001b[0;34m,\u001b[0m \u001b[0;32mNone\u001b[0m\u001b[0;34m\u001b[0m\u001b[0;34m\u001b[0m\u001b[0m\n\u001b[1;32m     68\u001b[0m         \u001b[0;32mfor\u001b[0m \u001b[0mj\u001b[0m \u001b[0;32min\u001b[0m \u001b[0mrange\u001b[0m\u001b[0;34m(\u001b[0m\u001b[0;36m10\u001b[0m\u001b[0;34m)\u001b[0m\u001b[0;34m:\u001b[0m\u001b[0;34m\u001b[0m\u001b[0;34m\u001b[0m\u001b[0m\n\u001b[0;32m---> 69\u001b[0;31m             \u001b[0mself\u001b[0m\u001b[0;34m.\u001b[0m\u001b[0mX\u001b[0m\u001b[0;34m[\u001b[0m\u001b[0;36m1\u001b[0m\u001b[0;34m:\u001b[0m\u001b[0;34m]\u001b[0m \u001b[0;34m=\u001b[0m \u001b[0mself\u001b[0m\u001b[0;34m.\u001b[0m\u001b[0mdynamique_pos\u001b[0m\u001b[0;34m(\u001b[0m\u001b[0maction\u001b[0m\u001b[0;34m)\u001b[0m\u001b[0;34m\u001b[0m\u001b[0;34m\u001b[0m\u001b[0m\n\u001b[0m\u001b[1;32m     70\u001b[0m             \u001b[0mself\u001b[0m\u001b[0;34m.\u001b[0m\u001b[0mtrajectoire\u001b[0m\u001b[0;34m.\u001b[0m\u001b[0mappend\u001b[0m\u001b[0;34m(\u001b[0m\u001b[0mnp\u001b[0m\u001b[0;34m.\u001b[0m\u001b[0mcopy\u001b[0m\u001b[0;34m(\u001b[0m\u001b[0mself\u001b[0m\u001b[0;34m.\u001b[0m\u001b[0mX\u001b[0m\u001b[0;34m)\u001b[0m\u001b[0;34m)\u001b[0m\u001b[0;34m\u001b[0m\u001b[0;34m\u001b[0m\u001b[0m\n\u001b[1;32m     71\u001b[0m             \u001b[0mself\u001b[0m\u001b[0;34m.\u001b[0m\u001b[0mX_bar\u001b[0m \u001b[0;34m=\u001b[0m \u001b[0;34m(\u001b[0m\u001b[0;36m1\u001b[0m \u001b[0;34m-\u001b[0m \u001b[0mself\u001b[0m\u001b[0;34m.\u001b[0m\u001b[0mlamb\u001b[0m \u001b[0;34m*\u001b[0m \u001b[0mself\u001b[0m\u001b[0;34m.\u001b[0m\u001b[0mDelta_T\u001b[0m\u001b[0;34m)\u001b[0m \u001b[0;34m*\u001b[0m \u001b[0mself\u001b[0m\u001b[0;34m.\u001b[0m\u001b[0mX_bar\u001b[0m \u001b[0;34m+\u001b[0m \u001b[0mv_action\u001b[0m \u001b[0;34m*\u001b[0m \u001b[0mself\u001b[0m\u001b[0;34m.\u001b[0m\u001b[0mDelta_T\u001b[0m\u001b[0;34m\u001b[0m\u001b[0;34m\u001b[0m\u001b[0m\n",
      "\u001b[0;32m~/map556/challenge2/peng-wei/Angrybird.py\u001b[0m in \u001b[0;36mdynamique_pos\u001b[0;34m(self, controle)\u001b[0m\n\u001b[1;32m     54\u001b[0m         \u001b[0mt\u001b[0m \u001b[0;34m=\u001b[0m \u001b[0mself\u001b[0m\u001b[0;34m.\u001b[0m\u001b[0mdiscrete_t\u001b[0m \u001b[0;34m/\u001b[0m \u001b[0;36m10\u001b[0m\u001b[0;34m\u001b[0m\u001b[0;34m\u001b[0m\u001b[0m\n\u001b[1;32m     55\u001b[0m         \u001b[0mterm1\u001b[0m \u001b[0;34m=\u001b[0m \u001b[0mself\u001b[0m\u001b[0;34m.\u001b[0m\u001b[0mV0\u001b[0m \u001b[0;34m*\u001b[0m \u001b[0mself\u001b[0m\u001b[0;34m.\u001b[0m\u001b[0mDelta_T\u001b[0m\u001b[0;34m\u001b[0m\u001b[0;34m\u001b[0m\u001b[0m\n\u001b[0;32m---> 56\u001b[0;31m         \u001b[0mterm2\u001b[0m \u001b[0;34m=\u001b[0m \u001b[0mself\u001b[0m\u001b[0;34m.\u001b[0m\u001b[0mg\u001b[0m \u001b[0;34m/\u001b[0m \u001b[0;36m2\u001b[0m \u001b[0;34m*\u001b[0m \u001b[0;34m(\u001b[0m\u001b[0;34m(\u001b[0m\u001b[0mt\u001b[0m \u001b[0;34m+\u001b[0m \u001b[0mself\u001b[0m\u001b[0;34m.\u001b[0m\u001b[0mDelta_T\u001b[0m\u001b[0;34m)\u001b[0m\u001b[0;34m**\u001b[0m\u001b[0;36m2\u001b[0m \u001b[0;34m-\u001b[0m \u001b[0mt\u001b[0m \u001b[0;34m**\u001b[0m \u001b[0;36m2\u001b[0m\u001b[0;34m)\u001b[0m\u001b[0;34m\u001b[0m\u001b[0;34m\u001b[0m\u001b[0m\n\u001b[0m\u001b[1;32m     57\u001b[0m         \u001b[0mterm3\u001b[0m \u001b[0;34m=\u001b[0m \u001b[0mself\u001b[0m\u001b[0;34m.\u001b[0m\u001b[0mlamb\u001b[0m \u001b[0;34m*\u001b[0m \u001b[0mself\u001b[0m\u001b[0;34m.\u001b[0m\u001b[0mX\u001b[0m\u001b[0;34m[\u001b[0m\u001b[0;36m1\u001b[0m\u001b[0;34m:\u001b[0m\u001b[0;34m]\u001b[0m \u001b[0;34m*\u001b[0m \u001b[0mself\u001b[0m\u001b[0;34m.\u001b[0m\u001b[0mDelta_T\u001b[0m\u001b[0;34m\u001b[0m\u001b[0;34m\u001b[0m\u001b[0m\n\u001b[1;32m     58\u001b[0m         \u001b[0mterm4\u001b[0m \u001b[0;34m=\u001b[0m \u001b[0mself\u001b[0m\u001b[0;34m.\u001b[0m\u001b[0mvent\u001b[0m\u001b[0;34m[\u001b[0m\u001b[0mself\u001b[0m\u001b[0;34m.\u001b[0m\u001b[0mdiscrete_t\u001b[0m\u001b[0;34m]\u001b[0m \u001b[0;34m*\u001b[0m \u001b[0mself\u001b[0m\u001b[0;34m.\u001b[0m\u001b[0mDelta_T\u001b[0m\u001b[0;34m\u001b[0m\u001b[0;34m\u001b[0m\u001b[0m\n",
      "\u001b[0;31mKeyboardInterrupt\u001b[0m: "
     ]
    }
   ],
   "source": [
    "env = AngryBird()\n",
    "#env2 = AngryBird()\n",
    "restart = True\n",
    "lr = 0.01\n",
    "m = 300\n",
    "if restart:\n",
    "    step = 1\n",
    "    all_rewards = []\n",
    "rewards = np.zeros(m)\n",
    "average_reward = 300.\n",
    "while average_reward > 110.:\n",
    "    place_mat = init_mat()\n",
    "    if (step+1)%10==0:\n",
    "        print(\"Step {}, last cost = {}, mean over 100 rounds = {}\".format(step+1, average_reward, np.mean(all_rewards[-100:])))\n",
    "        np.save(\"rewards\", all_rewards)\n",
    "#    lr = 1 / (np.log10(step) / 2 + 1)\n",
    "    places = rand_places(10)\n",
    "    tups_update(vmat, places, lr, 1)\n",
    "    cost1 = 0.\n",
    "    #cost2 = 0.\n",
    "    j_ = 0.\n",
    "    for z in range(m):\n",
    "        state = env.reset()\n",
    "        #state2 = env2.reset()\n",
    "        env.vent=vents[z]\n",
    "        #env2.vent=vents[z]\n",
    "        for i in range(10):\n",
    "            u_force = force_from_mat(umat, state) + main(state)\n",
    "            v_force = force_from_mat(vmat, state)\n",
    "            use_mat(place_mat, state)\n",
    "            state, _, _, _ = env.step(u_force, v_force)\n",
    "            #state2, _, _, _ = env2.step(v_force)\n",
    "        env.step(np.zeros(2))\n",
    "        #env2.step(np.zeros(2))\n",
    "        cost1 += np.sum(env.cost)\n",
    "        #cost2 += np.sum(env2.cost)\n",
    "        rewards[z] = np.sum(env.cost)\n",
    "        j_ += env.j_prime_MC()\n",
    "    for i in range(10):\n",
    "        vmat[i] *= place_mat[i]\n",
    "        umat[i] += -j_/m * vmat[i]\n",
    "    vmat = init_mat()\n",
    "    step+=1\n",
    "    average_reward = np.mean(rewards)\n",
    "    all_rewards.append(average_reward)"
   ]
  },
  {
   "cell_type": "markdown",
   "metadata": {},
   "source": [
    "#### Save\n",
    "db1, ub1, db2, ub2, umat"
   ]
  },
  {
   "cell_type": "code",
   "execution_count": 8,
   "metadata": {},
   "outputs": [],
   "source": [
    "umat = np.array(umat, dtype=object)\n",
    "np.save(\"umat\", umat)"
   ]
  }
 ],
 "metadata": {
  "kernelspec": {
   "display_name": "Python 3",
   "language": "python",
   "name": "python3"
  },
  "language_info": {
   "codemirror_mode": {
    "name": "ipython",
    "version": 3
   },
   "file_extension": ".py",
   "mimetype": "text/x-python",
   "name": "python",
   "nbconvert_exporter": "python",
   "pygments_lexer": "ipython3",
   "version": "3.8.5"
  }
 },
 "nbformat": 4,
 "nbformat_minor": 4
}
