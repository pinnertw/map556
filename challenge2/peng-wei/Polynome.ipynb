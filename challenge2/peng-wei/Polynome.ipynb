{
 "cells": [
  {
   "cell_type": "code",
   "execution_count": 1,
   "metadata": {},
   "outputs": [],
   "source": [
    "from Angrybird import AngryBird\n",
    "import numpy as np\n",
    "import matplotlib.pyplot as plt\n",
    "#import tensorflow as tf\n",
    "from tqdm.notebook import tqdm"
   ]
  },
  {
   "cell_type": "raw",
   "metadata": {},
   "source": [
    "# upper bound/lower bound\n",
    "db1 = np.ones(9) * 200\n",
    "ub1 = np.zeros(9)\n",
    "db2 = np.ones(9) * 200\n",
    "ub2 = np.zeros(9)\n",
    "env = AngryBird()\n",
    "for j in range(10000):\n",
    "    state = env.reset()\n",
    "    for i in range(11):\n",
    "        if i < 9:\n",
    "            state, cost, done, _ = env.step(np.zeros(2))\n",
    "            x1 = state[1]\n",
    "            x2 = state[2]\n",
    "            db1[i] = min(db1[i], x1)\n",
    "            ub1[i] = max(ub1[i], x1)\n",
    "            db2[i] = min(db2[i], x2)\n",
    "            ub2[i] = max(ub2[i], x2)\n",
    "        else:\n",
    "            state, cost, done, _ = env.step(np.zeros(2))\n",
    "print(ub1 - db1)\n",
    "print(ub2 - db2)\n",
    "np.save(\"db1\", db1)\n",
    "np.save(\"ub1\", ub1)\n",
    "np.save(\"db2\", db2)\n",
    "np.save(\"ub2\", ub2)"
   ]
  },
  {
   "cell_type": "code",
   "execution_count": 2,
   "metadata": {},
   "outputs": [
    {
     "name": "stdout",
     "output_type": "stream",
     "text": [
      "[  3.3702401    9.64839558  18.13527645  26.98632257  38.0141466\n",
      "  50.74219191  65.30956424  81.90413466 103.90807588]\n",
      "[  3.86655689   9.40276866  17.21078777  28.23815127  40.31978872\n",
      "  53.67959175  67.17050199  83.13494255 104.10694185]\n"
     ]
    }
   ],
   "source": [
    "db1=np.load(\"db1.npy\")\n",
    "db2=np.load(\"db2.npy\")\n",
    "ub1=np.load(\"ub1.npy\")\n",
    "ub2=np.load(\"ub2.npy\")\n",
    "print(ub1 - db1)\n",
    "print(ub2 - db2)"
   ]
  },
  {
   "cell_type": "code",
   "execution_count": 3,
   "metadata": {},
   "outputs": [],
   "source": [
    "# Polynome de deg 3\n",
    "def init_mat():\n",
    "    fmat = []\n",
    "    fmat.append(np.zeros((1, 1, 2)))\n",
    "    for i in range(1, 10):\n",
    "        fmat.append(np.zeros((i, i, 8)))\n",
    "    return fmat\n",
    "\n",
    "def force_from_coeff(x1, x2, coeffs):\n",
    "    x1 /= 100\n",
    "    x2 /= 50\n",
    "    a0, a1, a2, a3, b0, b1, b2, b3 = coeffs\n",
    "    force1 = a0 + a1*x1 + a2*x1**2 + a3*x1**3\n",
    "    force2 = b0 + b1*x2 + b2*x2**2 + b3*x2**3\n",
    "    return np.array([force1, force2])\n",
    "\n",
    "def force_from_mat(mat, state):\n",
    "    t, x1, x2 = state\n",
    "    t = int(t)\n",
    "    if t == 0:\n",
    "        return mat[0][0][0]\n",
    "    else:\n",
    "        i1 = min(max(int((x1 - db1[t-1]) / (ub1[t-1]-db1[t-1]) * t), 0), t-1)\n",
    "        i2 = min(max(int((x2 - db2[t-1]) / (ub2[t-1]-db2[t-1]) * t), 0), t-1)\n",
    "        #return mat[t][i1][i2]\n",
    "        #print(i1, i2)\n",
    "        return force_from_coeff(x1, x2, mat[t][i1][i2])\n",
    "\n",
    "# Force de rappel\n",
    "def main(state):\n",
    "    t = state[0]\n",
    "    return 1.59 * (-1.0125*state[1:]+np.array([10*t, 20*t-2*t**2]))\n",
    "\n",
    "def rand_place():\n",
    "    i = np.random.randint(0, 2282)\n",
    "    #print(i)\n",
    "    if i < 2:\n",
    "        return 0, 0, 0, i\n",
    "    else:\n",
    "        j = 2\n",
    "        for a in range(1, 10):\n",
    "            for b in range(a):\n",
    "                for c in range(a):\n",
    "                    for d in range(8):\n",
    "                        if i == j:\n",
    "                            return a, b, c, d\n",
    "                        else:\n",
    "                            j += 1\n",
    "    print(i)\n",
    "\n",
    "def rand_places(i):\n",
    "    places = []\n",
    "    for _ in range(i):\n",
    "        places.append(rand_place())\n",
    "    return places\n",
    "\n",
    "def tups_update(mat, places, lr, j):\n",
    "    try:\n",
    "        for tup in places:\n",
    "            a, b, c, d = tup\n",
    "            mat[a][b][c][d] += lr * j\n",
    "    except:\n",
    "        print(places)"
   ]
  },
  {
   "cell_type": "code",
   "execution_count": 4,
   "metadata": {},
   "outputs": [],
   "source": [
    "umat = init_mat()\n",
    "#umat = np.load(\"umat.npy\")\n",
    "vmat = init_mat()"
   ]
  },
  {
   "cell_type": "raw",
   "metadata": {},
   "source": [
    "m = 10000\n",
    "vents = []\n",
    "for _ in range(m):\n",
    "    vents.append(env.init_vent())"
   ]
  },
  {
   "cell_type": "code",
   "execution_count": 5,
   "metadata": {},
   "outputs": [],
   "source": [
    "#np.save(\"vents\", vents)\n",
    "vents = np.load(\"vents.npy\")"
   ]
  },
  {
   "cell_type": "code",
   "execution_count": null,
   "metadata": {
    "scrolled": true
   },
   "outputs": [
    {
     "name": "stdout",
     "output_type": "stream",
     "text": [
      "Step 10, last cost = 120.26125899921549, mean over 100 rounds = 120.26133648131989\n",
      "Step 20, last cost = 120.26105672746989, mean over 100 rounds = 120.26122179504634\n",
      "Step 30, last cost = 120.26106461844621, mean over 100 rounds = 120.26116439765062\n",
      "Step 40, last cost = 120.2608485793259, mean over 100 rounds = 120.26111060355106\n",
      "Step 50, last cost = 120.26079238101337, mean over 100 rounds = 120.2610502790706\n",
      "Step 60, last cost = 120.26090010549885, mean over 100 rounds = 120.26102025729243\n",
      "Step 70, last cost = 120.26097971150882, mean over 100 rounds = 120.26101165414116\n",
      "Step 80, last cost = 120.26093676125063, mean over 100 rounds = 120.2610098807764\n",
      "Step 90, last cost = 120.26097334847233, mean over 100 rounds = 120.26100329670341\n",
      "Step 100, last cost = 120.26092340718408, mean over 100 rounds = 120.26100017618215\n",
      "Step 110, last cost = 120.26069965393185, mean over 100 rounds = 120.26095247902471\n",
      "Step 120, last cost = 120.2607228126361, mean over 100 rounds = 120.26090998931485\n",
      "Step 130, last cost = 120.2605409032292, mean over 100 rounds = 120.26086270579813\n",
      "Step 140, last cost = 120.26035297840599, mean over 100 rounds = 120.26080817179245\n",
      "Step 150, last cost = 120.26038163267528, mean over 100 rounds = 120.2607614462017\n",
      "Step 160, last cost = 120.26035542828969, mean over 100 rounds = 120.26070933667086\n",
      "Step 170, last cost = 120.26036012282385, mean over 100 rounds = 120.26064923910307\n",
      "Step 180, last cost = 120.26044956213853, mean over 100 rounds = 120.26058908522569\n",
      "Step 190, last cost = 120.26057149728602, mean over 100 rounds = 120.26054631649113\n",
      "Step 200, last cost = 120.26063910329856, mean over 100 rounds = 120.26050936184117\n",
      "Step 210, last cost = 120.2608527226709, mean over 100 rounds = 120.260501814233\n",
      "Step 220, last cost = 120.2607409218118, mean over 100 rounds = 120.26051923587447\n",
      "Step 230, last cost = 120.26086443611747, mean over 100 rounds = 120.26054192748725\n",
      "Step 240, last cost = 120.26068586180773, mean over 100 rounds = 120.26057619188956\n",
      "Step 250, last cost = 120.26070821091949, mean over 100 rounds = 120.26060978352288\n",
      "Step 260, last cost = 120.26071770853962, mean over 100 rounds = 120.26064542767658\n",
      "Step 270, last cost = 120.26074565165148, mean over 100 rounds = 120.26068403424122\n",
      "Step 280, last cost = 120.26063191112885, mean over 100 rounds = 120.26070789948257\n",
      "Step 290, last cost = 120.26065137020805, mean over 100 rounds = 120.26071975118877\n",
      "Step 300, last cost = 120.26065222184043, mean over 100 rounds = 120.26072504822093\n",
      "Step 310, last cost = 120.26067106615831, mean over 100 rounds = 120.26072007980693\n"
     ]
    }
   ],
   "source": [
    "env = AngryBird()\n",
    "#env2 = AngryBird()\n",
    "restart = True\n",
    "lr = 0.01\n",
    "m = 10000\n",
    "if restart:\n",
    "    step = 1\n",
    "    all_rewards = []\n",
    "rewards = np.zeros(m)\n",
    "average_reward = 300.\n",
    "while average_reward > 110.:\n",
    "    if (step+1)%10==0:\n",
    "        print(\"Step {}, last cost = {}, mean over 100 rounds = {}\".format(step+1, average_reward, np.mean(all_rewards[-100:])))\n",
    "        np.save(\"rewards\", all_rewards)\n",
    "#    lr = 1 / (np.log10(step) / 2 + 1)\n",
    "    places = rand_places(10)\n",
    "    tups_update(vmat, places, lr, 1)\n",
    "    cost1 = 0.\n",
    "    #cost2 = 0.\n",
    "    j_ = 0.\n",
    "    for z in range(m):\n",
    "        state = env.reset()\n",
    "        #state2 = env2.reset()\n",
    "        env.vent=vents[z]\n",
    "        #env2.vent=vents[z]\n",
    "        for i in range(10):\n",
    "            u_force = force_from_mat(umat, state) + main(state)\n",
    "            v_force = force_from_mat(vmat, state)\n",
    "            state, _, _, _ = env.step(u_force, v_force)\n",
    "            #state2, _, _, _ = env2.step(v_force)\n",
    "        env.step(np.zeros(2))\n",
    "        #env2.step(np.zeros(2))\n",
    "        cost1 += np.sum(env.cost)\n",
    "        #cost2 += np.sum(env2.cost)\n",
    "        rewards[z] = np.sum(env.cost)\n",
    "        j_ += env.j_prime_MC()\n",
    "    tups_update(umat, places, -j_/m * lr, 1)\n",
    "    #print(j_ / m)\n",
    "    tups_update(vmat, places, lr, -1)\n",
    "    step+=1\n",
    "    average_reward = np.mean(rewards)\n",
    "    all_rewards.append(average_reward)"
   ]
  },
  {
   "cell_type": "markdown",
   "metadata": {},
   "source": [
    "#### Save\n",
    "db1, ub1, db2, ub2, umat"
   ]
  },
  {
   "cell_type": "code",
   "execution_count": null,
   "metadata": {},
   "outputs": [],
   "source": [
    "umat = np.array(umat, dtype=object)\n",
    "np.save(\"umat\", umat)"
   ]
  }
 ],
 "metadata": {
  "kernelspec": {
   "display_name": "Python 3",
   "language": "python",
   "name": "python3"
  },
  "language_info": {
   "codemirror_mode": {
    "name": "ipython",
    "version": 3
   },
   "file_extension": ".py",
   "mimetype": "text/x-python",
   "name": "python",
   "nbconvert_exporter": "python",
   "pygments_lexer": "ipython3",
   "version": "3.8.5"
  }
 },
 "nbformat": 4,
 "nbformat_minor": 4
}
