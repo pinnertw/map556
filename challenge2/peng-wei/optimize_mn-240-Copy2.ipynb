{
 "cells": [
  {
   "cell_type": "code",
   "execution_count": 1,
   "metadata": {},
   "outputs": [],
   "source": [
    "from Angrybird import AngryBird\n",
    "import numpy as np\n",
    "import matplotlib.pyplot as plt\n",
    "from tqdm.notebook import tqdm\n",
    "env=AngryBird()"
   ]
  },
  {
   "cell_type": "markdown",
   "metadata": {},
   "source": [
    "# 240 coeffs"
   ]
  },
  {
   "cell_type": "code",
   "execution_count": 2,
   "metadata": {},
   "outputs": [],
   "source": [
    "coeffs_temp = np.load(\"css.npy\")"
   ]
  },
  {
   "cell_type": "code",
   "execution_count": 3,
   "metadata": {},
   "outputs": [],
   "source": [
    "coeffs = np.ones((10, 4, 6))\n",
    "for i in range(10):\n",
    "    for j in range(4):\n",
    "        coeffs[i][j] = coeffs_temp[i]"
   ]
  },
  {
   "cell_type": "code",
   "execution_count": 4,
   "metadata": {},
   "outputs": [],
   "source": [
    "seconds = np.arange(11)\n",
    "pos = np.zeros((11, 2))\n",
    "pos[:, 0] = seconds * 10\n",
    "pos[:, 1] = seconds * 20 - 2 * seconds**2"
   ]
  },
  {
   "cell_type": "code",
   "execution_count": 5,
   "metadata": {},
   "outputs": [],
   "source": [
    "mean_states = np.load(\"mean_states.npy\")"
   ]
  },
  {
   "cell_type": "raw",
   "metadata": {},
   "source": [
    "def main(state, coeffs):\n",
    "    t = int(state[0])\n",
    "    return coeffs[t, 0, :2]*pos[t]-coeffs[t, 0, 2:4]*state[1:] + coeffs[t, 0, 4:]"
   ]
  },
  {
   "cell_type": "code",
   "execution_count": 6,
   "metadata": {},
   "outputs": [],
   "source": [
    "sqr2 = 1/np.sqrt(2)\n",
    "rot = np.array([[sqr2, -sqr2],\n",
    "               [sqr2, sqr2]])"
   ]
  },
  {
   "cell_type": "raw",
   "metadata": {},
   "source": [
    "vents = np.load(\"vents.npy\")\n",
    "nul=np.zeros(2)\n",
    "\n",
    "#costs = 0.\n",
    "m = 10000\n",
    "states = np.zeros((m, 10, 2))\n",
    "for z in tqdm(range(m)):\n",
    "    state = env.reset(False)\n",
    "    env.vent = vents[z]\n",
    "    for y in range(10):\n",
    "        states[z][y] = np.copy(rot.dot(state[1:] - mean_states[y]))\n",
    "        force = main(state, coeffs)\n",
    "        state, _, _, _ = env.step(force)\n",
    "    state, _, _, _ = env.step(nul)\n",
    "quantiles = np.quantile(states, [0.25, 0.5, 0.75],axis=0)[:, :, 0]\n",
    "np.save(\"quantiles\", quantiles)"
   ]
  },
  {
   "cell_type": "code",
   "execution_count": 7,
   "metadata": {},
   "outputs": [
    {
     "name": "stdout",
     "output_type": "stream",
     "text": [
      "[-1.18906167 -0.00613677  1.18385758]\n",
      "3\n"
     ]
    }
   ],
   "source": [
    "quantiles = np.load(\"quantiles.npy\")\n",
    "print(quantiles[:, 5])\n",
    "print(np.searchsorted(quantiles[:, 5],2, side=\"left\"))"
   ]
  },
  {
   "cell_type": "code",
   "execution_count": 10,
   "metadata": {},
   "outputs": [],
   "source": [
    "def main(state, coeffs):\n",
    "    t = int(state[0])\n",
    "    a, _ = rot.dot(state[1:] - mean_states[t])\n",
    "    i = np.searchsorted(quantiles[:, t],a, side=\"left\")\n",
    "    return coeffs[t, i, :2]*pos[t]-coeffs[t, i, 2:4]*state[1:] + coeffs[t, i, 4:]"
   ]
  },
  {
   "cell_type": "code",
   "execution_count": null,
   "metadata": {
    "scrolled": true
   },
   "outputs": [
    {
     "name": "stdout",
     "output_type": "stream",
     "text": [
      "100 1000 0.001 110.76998933132208 116.99631678940135 8.900758477052053\n",
      "100 1000 0.001 110.47087912263167 116.80092310161888 8.912276136875153\n",
      "100 1000 0.001 110.3814111340934 116.7111927592063 8.959009210268656\n",
      "100 1000 0.001 110.33047887029007 116.67054236882616 8.93382913271586\n",
      "100 1000 0.001 110.29727732984486 116.64922437241125 8.912242261568705\n"
     ]
    }
   ],
   "source": [
    "from time import time\n",
    "nul=np.zeros(2)\n",
    "m = 100\n",
    "n = 1000\n",
    "vents = np.load(\"vents.npy\")\n",
    "ecart = 0.001\n",
    "cos_min = 400.\n",
    "while cos_min > 100:\n",
    "    t = -time()\n",
    "    for i in range(10):\n",
    "        for l in range(4):\n",
    "            for k in range(6):\n",
    "                coeff_change = np.linspace(coeffs[i][l][k]-ecart, coeffs[i][l][k]+ecart, 9)\n",
    "                costs = np.zeros(9)\n",
    "                for j in range(9):\n",
    "                    coeffs[i][l][k] = coeff_change[j]\n",
    "                    for z in range(m):\n",
    "                        state = env.reset()\n",
    "                        env.vent = vents[z]\n",
    "                        for _ in range(10):\n",
    "                            force = main(state, coeffs)\n",
    "                            state, _, _, _ = env.step(force)\n",
    "                        env.step(nul)\n",
    "                        costs[j] += env.cost.sum()\n",
    "                coeffs[i][l][k] = coeff_change[np.argmin(costs)]\n",
    "    cos = 0.\n",
    "    for z in range(n):\n",
    "        state = env.reset(False)\n",
    "        env.vent = vents[z]\n",
    "        for _ in range(10):\n",
    "            force = main(state, coeffs)\n",
    "            state, _, _, _ = env.step(force)\n",
    "        env.step(nul)\n",
    "        cos += env.cost.sum()\n",
    "    cos /= n\n",
    "    t += time()\n",
    "    print(m, n, ecart, costs.min()/m, cos, t/60)\n",
    "    if cos < cos_min:\n",
    "        cos_min = cos\n",
    "        np.save(\"l\", coeffs)\n",
    "    else:\n",
    "        cos_min = cos + 20\n",
    "        m += 100\n",
    "        n += 100\n",
    "        ecart /= 2"
   ]
  },
  {
   "cell_type": "code",
   "execution_count": null,
   "metadata": {},
   "outputs": [],
   "source": [
    "vents = np.load(\"vents.npy\")\n",
    "mean_states = np.load(\"mean_states.npy\")\n",
    "nul=np.zeros(2)\n",
    "costs = 0.\n",
    "m = 1100\n",
    "for z in tqdm(range(m)):\n",
    "    state = env.reset(False)\n",
    "    env.vent = vents[z]\n",
    "    for y in range(10):\n",
    "        force = main(state, coeffs)\n",
    "        state, _, _, _ = env.step(force)\n",
    "    plt.scatter(state[1], state[2])\n",
    "    state, _, _, _ = env.step(nul)\n",
    "    costs += env.cost.sum()\n",
    "print(costs/m)"
   ]
  },
  {
   "cell_type": "raw",
   "metadata": {},
   "source": [
    "np.save(\"mean_states\", mean_states)"
   ]
  },
  {
   "cell_type": "raw",
   "metadata": {},
   "source": [
    "nul=np.zeros(2)\n",
    "costs = 0.\n",
    "mean_states = np.zeros((10, 2))\n",
    "for z in tqdm(range(10000)):\n",
    "    state = env.reset()\n",
    "    for y in range(10):\n",
    "        mean_states[y] += state[1:]\n",
    "        force = main(state, coeffs)\n",
    "        state, _, _, _ = env.step(force)\n",
    "    env.step(nul)\n",
    "    costs += env.cost.sum()\n",
    "mean_states/=10000\n",
    "print(costs/10000)"
   ]
  },
  {
   "cell_type": "raw",
   "metadata": {},
   "source": [
    "coeffs\n",
    "array([1.54466667, 1.66844444, 1.56498611, 1.64543056, 0.08933333,\n",
    "       0.48822222])"
   ]
  },
  {
   "cell_type": "raw",
   "metadata": {},
   "source": [
    "costs / m\n",
    "array([119.26044818, 119.26030105, 119.26017599, 119.26007301,\n",
    "       119.25999211, 119.25993329, 119.25989654, 119.25988187,\n",
    "       119.25988927, 119.25991874])"
   ]
  },
  {
   "cell_type": "raw",
   "metadata": {},
   "source": [
    "np.save(\"c\", coeffs)"
   ]
  }
 ],
 "metadata": {
  "kernelspec": {
   "display_name": "Python 3",
   "language": "python",
   "name": "python3"
  },
  "language_info": {
   "codemirror_mode": {
    "name": "ipython",
    "version": 3
   },
   "file_extension": ".py",
   "mimetype": "text/x-python",
   "name": "python",
   "nbconvert_exporter": "python",
   "pygments_lexer": "ipython3",
   "version": "3.8.5"
  }
 },
 "nbformat": 4,
 "nbformat_minor": 4
}
